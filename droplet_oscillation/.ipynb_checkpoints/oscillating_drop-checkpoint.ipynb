{
 "cells": [
  {
   "cell_type": "code",
   "execution_count": 2,
   "metadata": {},
   "outputs": [],
   "source": [
    "import numpy as np\n",
    "import matplotlib.pyplot as plt\n",
    "import matplotlib as mpl\n",
    "import pandas as pd\n",
    "from scipy.stats import linregress\n",
    "import os\n",
    "from netCDF4 import Dataset\n",
    "\n",
    "#For plotting binned velocity profile\n",
    "from scipy.stats import binned_statistic as bstats"
   ]
  },
  {
   "cell_type": "code",
   "execution_count": 9,
   "metadata": {},
   "outputs": [],
   "source": [
    "# Import and apply style file for plots\n",
    "plt.style.use(\"mpl.style\")"
   ]
  },
  {
   "cell_type": "markdown",
   "metadata": {},
   "source": [
    "## System properties"
   ]
  },
  {
   "cell_type": "code",
   "execution_count": 10,
   "metadata": {},
   "outputs": [],
   "source": [
    "#In LJ units\n",
    "\n",
    "#System dimensions\n",
    "d = 2\n",
    "\n",
    "#Smoothing length coefficient\n",
    "h3 = 3.5\n",
    "\n",
    "#System size\n",
    "L_x = 10 #Size of the system\n",
    "L_y = L_x\n",
    "\n",
    "#Fluid properties\n",
    "eta = 0.01\n",
    "rho = 1\n",
    "nu = eta/rho\n",
    "\n",
    "#Oscillation properties\n",
    "#u_0 = 0.1\n",
    "#k_x = 2*np.pi/L_x\n",
    "#k_y = 2*np.pi/L_y\n",
    "\n",
    "#Decay timescale\n",
    "#tau = 1/nu/(k_x**2+k_y**2)"
   ]
  },
  {
   "cell_type": "markdown",
   "metadata": {},
   "source": [
    "## Functions"
   ]
  },
  {
   "cell_type": "code",
   "execution_count": 11,
   "metadata": {},
   "outputs": [],
   "source": [
    "#Calculate velocity from analytical solution to Taylor-Green Vortex\n",
    "def vel_x_y_t(x,y,t,k_x,k_y,tau):\n",
    "    u_x = u_0*np.cos(k_x*x)*np.sin(k_y*y)\n",
    "    u_y = u_0*np.sin(k_x*x)*np.cos(k_y*y)\n",
    "    u_t = np.exp(-t/tau)\n",
    "    return np.sum(np.abs(u_x), axis=1)*u_t , np.sum(np.abs(u_y), axis=1)*u_t"
   ]
  },
  {
   "cell_type": "code",
   "execution_count": 12,
   "metadata": {},
   "outputs": [],
   "source": [
    "#Compile all filenames (value) and properties (key) into a dictionary\n",
    "def generate_file_names(filepath):\n",
    "    data_files = {}\n",
    "\n",
    "    for file in os.listdir(filepath):\n",
    "\n",
    "        #Remove the .nc extension\n",
    "        #Collect the info for the run in an array\n",
    "        file_info = file.split(\".\")\n",
    "        file_info = file_info[0].split(\"_\")\n",
    "\n",
    "        #File name\n",
    "        file_name = file\n",
    "\n",
    "        #Add the files to datafiles dictionary\n",
    "        data_files[(file_info[0],file_info[1],file_info[2])]= filepath + \"/\" + file_name\n",
    "    return data_files"
   ]
  },
  {
   "cell_type": "code",
   "execution_count": 13,
   "metadata": {},
   "outputs": [],
   "source": [
    "#Calculate values needed to plot kinetic energy decay\n",
    "def calc_kinetic_energy_decay(ds, mp, N):\n",
    "    \n",
    "    #Kinetic energy from data\n",
    "    td = ds[\"time\"][:]\n",
    "    xd = ds['coordinates'][:,:,0] #At timestep nf, for all particles, x position\n",
    "    yd = ds[\"coordinates\"][:,:,1] #At timestep nf, for all particles, y position\n",
    "    vxd = ds[\"velocities\"][:,:,0] #At timestep nf, for all particles, x position\n",
    "    vyd = ds['velocities'][:,:,1] #At timestep nf, for all particles, y velocity\n",
    "    Exd = 0.5*mp*(np.sum(np.abs(vxd), axis=1))**2\n",
    "    Eyd = 0.5*mp*(np.sum(np.abs(vyd), axis=1))**2\n",
    "    E_tot = Exd+Eyd\n",
    "\n",
    "    #Kinetic energy from analytic solution\n",
    "#     ref_vx, ref_vy = vel_x_y_t(xd,yd,td,k_x,k_y,tau)\n",
    "#     ref_Ex = 0.5*mp*(ref_vx)**2\n",
    "#     ref_Ey = 0.5*mp*(ref_vy)**2\n",
    "#     ref_E_tot = (ref_Ex + ref_Ey)\n",
    "\n",
    "    return td, E_tot#, ref_E_tot\n",
    "\n",
    "#Calculate values needed to plot viscosity error\n",
    "def calc_viscosity_error(td, E_tot, ref_E_tot):\n",
    "\n",
    "    #all_run_info = kinetic_energy_decay[1]\n",
    "    \n",
    "    #Viscosity calculation from slope of semilogy(E_tot vs t)\n",
    "    slope_d = linregress(td, np.log(E_tot))[0]\n",
    "    nu_d = -slope_d/(2*(k_x**2+k_y**2)) #Kinematic viscosity from data\n",
    "        \n",
    "    #Viscosity calculation from analytical solution\n",
    "    slope_ref = linregress(td, np.log(ref_E_tot))[0]\n",
    "    nu_ref = -slope_ref/(2*(k_x**2+k_y**2)) #Kinematic viscosity from data\n",
    "\n",
    "    #Error\n",
    "    nu_error = np.abs(nu_ref-nu_d)\n",
    "    \n",
    "    return nu_error\n"
   ]
  },
  {
   "cell_type": "code",
   "execution_count": 14,
   "metadata": {},
   "outputs": [],
   "source": [
    "#Benchmark by plotting kinetic energy decay and viscosity\n",
    "def benchmark(data_files):\n",
    "    \n",
    "    fig, ax = plt.subplots(2,1,figsize=(15,15))\n",
    "    all_run_info = []\n",
    "\n",
    "    for run in data_files:\n",
    "        run_info = list(run)[0:2]\n",
    "        ds = Dataset(data_files[run])\n",
    "\n",
    "        #Scaling variables\n",
    "        sf = 1/int(list(run)[2]) #Scaling of unit cell\n",
    "        L_z = h3*(d-2)*sf #Account for L_z if d=3\n",
    "        n = 1/sf**d #Number density - number of particles per volume\n",
    "        mp = rho/n #Mass of particles (density is constant)\n",
    "\n",
    "        if d == 3:\n",
    "            N = L_x*L_y*L_z/sf**d # Total number of atoms\n",
    "        elif d == 2:\n",
    "            N = L_x*L_y/sf**d \n",
    "\n",
    "        run_info.append(sf)\n",
    "        \n",
    "        #Calculate kinetic energy decay and plot it\n",
    "        td, E_tot = calc_kinetic_energy_decay(ds, mp, N)\n",
    "        ax[0].semilogy(td, E_tot/E_tot[0], label = run_info[0:3])\n",
    "        \n",
    "        #Calculate viscosity error\n",
    "        run_info.append(calc_viscosity_error(td, E_tot, ref_E_tot))\n",
    "        \n",
    "        all_run_info.append(run_info)\n",
    "    \n",
    "    #Plot KE decay from analytical velocity profile\n",
    "#    ax[0].semilogy(td, ref_E_tot/ref_E_tot[0], \"--\", label = \"Analytical Solution\")\n",
    "    \n",
    "    #Format kinetic energy decay plot\n",
    "    ax[0].legend(bbox_to_anchor=(1,1), loc=\"upper left\")\n",
    "    ax[0].set_ylabel(r\"$\\log{(\\frac{KE_{tot}}{N})}$\")\n",
    "    ax[0].set_xlabel(\"t\")\n",
    "    \n",
    "#     #Plot viscosity error\n",
    "#     df = pd.DataFrame(all_run_info, columns=[\"Shifting\",\"RK\",\"sf\",\"Viscosity Error\"])\n",
    "#     df.sort_values(by=[\"sf\"], inplace=True)\n",
    "    \n",
    "#     for i in df[\"Shifting\"].unique():\n",
    "#         df_1 = df[df[\"Shifting\"]==i]\n",
    "#     for j in df_1[\"RK\"].unique():\n",
    "#         df_2 = df_1[df_1[\"RK\"]==j]\n",
    "#         label = \"Shifting: \" + i + \"  \" +\"RK: \" + j\n",
    "#         ax[1].loglog(df_2[\"sf\"],df_2[\"Viscosity Error\"],label=label)\n",
    "#         #nu_error_slope = df_2[\"sf\"].corr(df_2[\"Viscosity Error\"])\n",
    "#         #print(\"Slope: \" + str(nu_error_slope))\n",
    "#         #print(np.diff(np.log(df_2[\"Viscosity Error\"]))/np.diff(np.log(df_2[\"sf\"])))\n",
    "#         print(df_2)\n",
    "\n",
    "#     #Format viscosity error plot\n",
    "#     ax[1].legend()\n",
    "#     ax[1].set_ylabel('Viscosity Error')\n",
    "#     ax[1].set_xlabel(r\"${\\Delta x}$\")\n",
    "    \n",
    "    plt.tight_layout()"
   ]
  },
  {
   "cell_type": "code",
   "execution_count": 15,
   "metadata": {
    "scrolled": false
   },
   "outputs": [
    {
     "ename": "NameError",
     "evalue": "name 'k_x' is not defined",
     "output_type": "error",
     "traceback": [
      "\u001b[0;31m---------------------------------------------------------------------------\u001b[0m",
      "\u001b[0;31mNameError\u001b[0m                                 Traceback (most recent call last)",
      "\u001b[0;32m/tmp/ipykernel_6918/652471519.py\u001b[0m in \u001b[0;36m<module>\u001b[0;34m\u001b[0m\n\u001b[1;32m      1\u001b[0m \u001b[0mfilepath\u001b[0m \u001b[0;34m=\u001b[0m \u001b[0;34m'/home/epalermo/dev/test/droplet_oscillation/data_files'\u001b[0m\u001b[0;34m\u001b[0m\u001b[0;34m\u001b[0m\u001b[0m\n\u001b[0;32m----> 2\u001b[0;31m \u001b[0mbenchmark\u001b[0m\u001b[0;34m(\u001b[0m\u001b[0mgenerate_file_names\u001b[0m\u001b[0;34m(\u001b[0m\u001b[0mfilepath\u001b[0m\u001b[0;34m)\u001b[0m\u001b[0;34m)\u001b[0m\u001b[0;34m\u001b[0m\u001b[0;34m\u001b[0m\u001b[0m\n\u001b[0m",
      "\u001b[0;32m/tmp/ipykernel_6918/3855059768.py\u001b[0m in \u001b[0;36mbenchmark\u001b[0;34m(data_files)\u001b[0m\n\u001b[1;32m     23\u001b[0m \u001b[0;34m\u001b[0m\u001b[0m\n\u001b[1;32m     24\u001b[0m         \u001b[0;31m#Calculate kinetic energy decay and plot it\u001b[0m\u001b[0;34m\u001b[0m\u001b[0;34m\u001b[0m\u001b[0m\n\u001b[0;32m---> 25\u001b[0;31m         \u001b[0mtd\u001b[0m\u001b[0;34m,\u001b[0m \u001b[0mE_tot\u001b[0m\u001b[0;34m,\u001b[0m \u001b[0mref_E_tot\u001b[0m \u001b[0;34m=\u001b[0m \u001b[0mcalc_kinetic_energy_decay\u001b[0m\u001b[0;34m(\u001b[0m\u001b[0mds\u001b[0m\u001b[0;34m,\u001b[0m \u001b[0mmp\u001b[0m\u001b[0;34m,\u001b[0m \u001b[0mN\u001b[0m\u001b[0;34m)\u001b[0m\u001b[0;34m\u001b[0m\u001b[0;34m\u001b[0m\u001b[0m\n\u001b[0m\u001b[1;32m     26\u001b[0m         \u001b[0max\u001b[0m\u001b[0;34m[\u001b[0m\u001b[0;36m0\u001b[0m\u001b[0;34m]\u001b[0m\u001b[0;34m.\u001b[0m\u001b[0msemilogy\u001b[0m\u001b[0;34m(\u001b[0m\u001b[0mtd\u001b[0m\u001b[0;34m,\u001b[0m \u001b[0mE_tot\u001b[0m\u001b[0;34m/\u001b[0m\u001b[0mE_tot\u001b[0m\u001b[0;34m[\u001b[0m\u001b[0;36m0\u001b[0m\u001b[0;34m]\u001b[0m\u001b[0;34m,\u001b[0m \u001b[0mlabel\u001b[0m \u001b[0;34m=\u001b[0m \u001b[0mrun_info\u001b[0m\u001b[0;34m[\u001b[0m\u001b[0;36m0\u001b[0m\u001b[0;34m:\u001b[0m\u001b[0;36m3\u001b[0m\u001b[0;34m]\u001b[0m\u001b[0;34m)\u001b[0m\u001b[0;34m\u001b[0m\u001b[0;34m\u001b[0m\u001b[0m\n\u001b[1;32m     27\u001b[0m \u001b[0;34m\u001b[0m\u001b[0m\n",
      "\u001b[0;32m/tmp/ipykernel_6918/2552960478.py\u001b[0m in \u001b[0;36mcalc_kinetic_energy_decay\u001b[0;34m(ds, mp, N)\u001b[0m\n\u001b[1;32m     13\u001b[0m \u001b[0;34m\u001b[0m\u001b[0m\n\u001b[1;32m     14\u001b[0m     \u001b[0;31m#Kinetic energy from analytic solution\u001b[0m\u001b[0;34m\u001b[0m\u001b[0;34m\u001b[0m\u001b[0m\n\u001b[0;32m---> 15\u001b[0;31m     \u001b[0mref_vx\u001b[0m\u001b[0;34m,\u001b[0m \u001b[0mref_vy\u001b[0m \u001b[0;34m=\u001b[0m \u001b[0mvel_x_y_t\u001b[0m\u001b[0;34m(\u001b[0m\u001b[0mxd\u001b[0m\u001b[0;34m,\u001b[0m\u001b[0myd\u001b[0m\u001b[0;34m,\u001b[0m\u001b[0mtd\u001b[0m\u001b[0;34m,\u001b[0m\u001b[0mk_x\u001b[0m\u001b[0;34m,\u001b[0m\u001b[0mk_y\u001b[0m\u001b[0;34m,\u001b[0m\u001b[0mtau\u001b[0m\u001b[0;34m)\u001b[0m\u001b[0;34m\u001b[0m\u001b[0;34m\u001b[0m\u001b[0m\n\u001b[0m\u001b[1;32m     16\u001b[0m     \u001b[0mref_Ex\u001b[0m \u001b[0;34m=\u001b[0m \u001b[0;36m0.5\u001b[0m\u001b[0;34m*\u001b[0m\u001b[0mmp\u001b[0m\u001b[0;34m*\u001b[0m\u001b[0;34m(\u001b[0m\u001b[0mref_vx\u001b[0m\u001b[0;34m)\u001b[0m\u001b[0;34m**\u001b[0m\u001b[0;36m2\u001b[0m\u001b[0;34m\u001b[0m\u001b[0;34m\u001b[0m\u001b[0m\n\u001b[1;32m     17\u001b[0m     \u001b[0mref_Ey\u001b[0m \u001b[0;34m=\u001b[0m \u001b[0;36m0.5\u001b[0m\u001b[0;34m*\u001b[0m\u001b[0mmp\u001b[0m\u001b[0;34m*\u001b[0m\u001b[0;34m(\u001b[0m\u001b[0mref_vy\u001b[0m\u001b[0;34m)\u001b[0m\u001b[0;34m**\u001b[0m\u001b[0;36m2\u001b[0m\u001b[0;34m\u001b[0m\u001b[0;34m\u001b[0m\u001b[0m\n",
      "\u001b[0;31mNameError\u001b[0m: name 'k_x' is not defined"
     ]
    },
    {
     "data": {
      "image/png": "[encoded data removed]",
      "text/plain": [
       "<Figure size 1080x1080 with 2 Axes>"
      ]
     },
     "metadata": {},
     "output_type": "display_data"
    }
   ],
   "source": [
    "filepath = '/home/epalermo/dev/test/droplet_oscillation/data_files'\n",
    "benchmark(generate_file_names(filepath))"
   ]
  },
  {
   "cell_type": "code",
   "execution_count": null,
   "metadata": {},
   "outputs": [],
   "source": []
  }
 ],
 "metadata": {
  "kernelspec": {
   "display_name": "Python 3 (ipykernel)",
   "language": "python",
   "name": "python3"
  },
  "language_info": {
   "codemirror_mode": {
    "name": "ipython",
    "version": 3
   },
   "file_extension": ".py",
   "mimetype": "text/x-python",
   "name": "python",
   "nbconvert_exporter": "python",
   "pygments_lexer": "ipython3",
   "version": "3.9.7"
  }
 },
 "nbformat": 4,
 "nbformat_minor": 4
}
