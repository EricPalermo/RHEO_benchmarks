{
 "cells": [
  {
   "cell_type": "code",
   "execution_count": 2,
   "metadata": {},
   "outputs": [],
   "source": [
    "import numpy as np\n",
    "import matplotlib.pyplot as plt\n",
    "import matplotlib as mpl\n",
    "import pandas as pd\n",
    "from scipy.stats import linregress\n",
    "import os\n",
    "\n",
    "#For plotting binned velocity profile\n",
    "from scipy.stats import binned_statistic as bstats"
   ]
  },
  {
   "cell_type": "code",
   "execution_count": 3,
   "metadata": {},
   "outputs": [],
   "source": [
    "# Import and apply style file for plots\n",
    "plt.style.use(\"mpl.style\")"
   ]
  },
  {
   "cell_type": "markdown",
   "metadata": {},
   "source": [
    "## System properties"
   ]
  },
  {
   "cell_type": "code",
   "execution_count": 4,
   "metadata": {},
   "outputs": [],
   "source": [
    "#In LJ units\n",
    "\n",
    "#System size\n",
    "L_x = 10 #Size of the system\n",
    "\n",
    "#Fluid properties\n",
    "eta = 0.01\n",
    "rho = 1\n",
    "nu = eta/rho\n",
    "\n",
    "#Oscillation properties\n",
    "u_0 = 0.1\n",
    "k_x = 2*np.pi/L_x\n",
    "\n",
    "#Decay timescale\n",
    "tau = 1/nu/(k_x**2)"
   ]
  },
  {
   "cell_type": "markdown",
   "metadata": {},
   "source": [
    "#### Functional Expression for Velocity"
   ]
  },
  {
   "cell_type": "code",
   "execution_count": 12,
   "metadata": {},
   "outputs": [],
   "source": [
    "#This expression returns the magnitude of velocity vectors only\n",
    "def vel_x_y_t(x,t,k_x,tau):\n",
    "    u_x = u_0*np.sin(k_x*x)\n",
    "    u_t = np.exp(-t/tau)\n",
    "    return np.sum(np.abs(u_x), axis=1)*u_t"
   ]
  },
  {
   "cell_type": "markdown",
   "metadata": {},
   "source": [
    "## Retrieve netCDF datasets"
   ]
  },
  {
   "cell_type": "code",
   "execution_count": 6,
   "metadata": {},
   "outputs": [],
   "source": [
    "from netCDF4 import Dataset"
   ]
  },
  {
   "cell_type": "code",
   "execution_count": 7,
   "metadata": {},
   "outputs": [],
   "source": [
    "filepath = '/home/epalermo/dev/test/oscillating_flow/data_files'\n",
    "\n",
    "#Compile all filenames (value) and properties (key) into a dictionary\n",
    "data_files = {}\n",
    "\n",
    "for file in os.listdir(filepath):\n",
    "    \n",
    "    #Remove the .nc extension\n",
    "    #Collect the info for the run in an array\n",
    "    file_info = file.split(\".\")\n",
    "    file_info = file_info[0].split(\"_\")\n",
    "    \n",
    "    #File name\n",
    "    file_name = file\n",
    "    \n",
    "    #Add the files to datafiles dictionary\n",
    "    data_files[(file_info[0],file_info[1],file_info[2])]= filepath + \"/\" + file_name\n",
    "\n",
    "    "
   ]
  },
  {
   "cell_type": "markdown",
   "metadata": {},
   "source": [
    "## Kinetic Energy vs Time"
   ]
  },
  {
   "cell_type": "code",
   "execution_count": 19,
   "metadata": {},
   "outputs": [
    {
     "name": "stderr",
     "output_type": "stream",
     "text": [
      "/tmp/ipykernel_16452/1968265017.py:26: RuntimeWarning: divide by zero encountered in log\n",
      "  slope_d = linregress(td, np.log(E_tot))[0]\n"
     ]
    }
   ],
   "source": [
    "#fig = plt.figure()\n",
    "\n",
    "\n",
    "all_run_info = []\n",
    "\n",
    "for run in data_files:\n",
    "    run_info = list(run)[0:2]\n",
    "    ds = Dataset(data_files[run])\n",
    "    \n",
    "    #Scaling variables\n",
    "    sf = 1/int(list(run)[2]) #Scaling of unit cell\n",
    "    N = L_x*3.5/sf**2 # Total number of atoms\n",
    "    n = 1/sf**2 #Number density - number of particles per volume\n",
    "    mp = rho/n #Mass of particles (density is constant)\n",
    "    \n",
    "    run_info.append(sf)\n",
    "     \n",
    "    #Kinetic energy from data\n",
    "    td = ds[\"time\"][:]\n",
    "    xd = ds['coordinates'][:,:,0] #At timestep nf, for all particles, x position\n",
    "    vxd = ds[\"velocities\"][:,:,0] #At timestep nf, for all particles, x position\n",
    "    Exd = 0.5*mp*(np.sum(np.abs(vxd), axis=1))**2\n",
    "    E_tot = Exd\n",
    "    \n",
    "    #Viscosity calculation from slope of semilogy(E_tot vs t)\n",
    "    slope_d = linregress(td, np.log(E_tot))[0]\n",
    "    nu_d = -slope_d/(2*(k_x**2)) #Kinematic viscosity from data\n",
    "    \n",
    "    #Kinetic energy from analytic solution\n",
    "    ref_vx = vel_x_y_t(xd,td,k_x,tau)\n",
    "    ref_Ex = 0.5*mp*(ref_vx)**2\n",
    "    ref_E_tot = ref_Ex\n",
    "    \n",
    "    #Viscosity calculation from analytical solution\n",
    "    slope_ref = linregress(td, np.log(ref_E_tot))[0]\n",
    "    nu_ref = -slope_ref/(2*(k_x**2)) #Kinematic viscosity from data\n",
    "\n",
    "    #Error\n",
    "    nu_error = np.abs(nu_ref-nu_d)\n",
    "    run_info.append(nu_error)\n",
    "    \n",
    "    all_run_info.append(run_info)\n",
    "    \n",
    "    #plt.semilogy(td, E_tot, label = run_info[0:2])\n",
    "    "
   ]
  },
  {
   "cell_type": "code",
   "execution_count": 15,
   "metadata": {},
   "outputs": [],
   "source": [
    "df = pd.DataFrame(all_run_info, columns=[\"Shifting\",\"RK\",\"sf\",\"Viscosity Error\"])\n",
    "df.sort_values(by=[\"sf\"], inplace=True)"
   ]
  },
  {
   "cell_type": "code",
   "execution_count": 16,
   "metadata": {},
   "outputs": [
    {
     "name": "stdout",
     "output_type": "stream",
     "text": [
      "   Shifting RK     sf  Viscosity Error\n",
      "0         1  1  0.005         0.010301\n",
      "11        1  1  0.050         0.010353\n",
      "2         1  1  0.100         0.022506\n",
      "15        1  1  0.500         0.021862\n",
      "   Shifting RK     sf  Viscosity Error\n",
      "9         1  0  0.005         0.045475\n",
      "13        1  0  0.050         0.019823\n",
      "14        1  0  0.100         0.008626\n",
      "8         1  0  0.500         0.016601\n",
      "  Shifting RK     sf  Viscosity Error\n",
      "4        0  1  0.005         0.074182\n",
      "3        0  1  0.050         0.010075\n",
      "6        0  1  0.100         0.016152\n",
      "7        0  1  0.500         0.022788\n",
      "   Shifting RK     sf  Viscosity Error\n",
      "10        0  0  0.005         1.165032\n",
      "1         0  0  0.050         0.027699\n",
      "5         0  0  0.100         0.026098\n",
      "12        0  0  0.500         0.009232\n"
     ]
    },
    {
     "data": {
      "text/plain": [
       "Text(0.5, 0, '${\\\\Delta x}$')"
      ]
     },
     "execution_count": 16,
     "metadata": {},
     "output_type": "execute_result"
    },
    {
     "data": {
      "image/png": "[encoded data removed]",
      "text/plain": [
       "<Figure size 720x576 with 1 Axes>"
      ]
     },
     "metadata": {},
     "output_type": "display_data"
    }
   ],
   "source": [
    "fig = plt.figure()\n",
    "\n",
    "\n",
    "for i in df[\"Shifting\"].unique():\n",
    "    df_1 = df[df[\"Shifting\"]==i]\n",
    "    for j in df_1[\"RK\"].unique():\n",
    "        df_2 = df_1[df_1[\"RK\"]==j]\n",
    "        label = \"Shifting: \" + i + \"  \" +\"RK: \" + j\n",
    "        plt.plot(df_2[\"sf\"],df_2[\"Viscosity Error\"],label=label)\n",
    "        print(df_2)\n",
    "        \n",
    "plt.legend()\n",
    "plt.ylabel('Viscosity Error')\n",
    "plt.xlabel(r\"${\\Delta x}$\")"
   ]
  },
  {
   "cell_type": "code",
   "execution_count": null,
   "metadata": {},
   "outputs": [],
   "source": []
  }
 ],
 "metadata": {
  "kernelspec": {
   "display_name": "Python 3 (ipykernel)",
   "language": "python",
   "name": "python3"
  },
  "language_info": {
   "codemirror_mode": {
    "name": "ipython",
    "version": 3
   },
   "file_extension": ".py",
   "mimetype": "text/x-python",
   "name": "python",
   "nbconvert_exporter": "python",
   "pygments_lexer": "ipython3",
   "version": "3.9.7"
  }
 },
 "nbformat": 4,
 "nbformat_minor": 4
}
