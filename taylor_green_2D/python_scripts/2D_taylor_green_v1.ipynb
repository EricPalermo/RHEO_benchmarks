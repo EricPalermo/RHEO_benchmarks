{
 "cells": [
  {
   "cell_type": "code",
   "execution_count": 1,
   "metadata": {},
   "outputs": [],
   "source": [
    "import numpy as np\n",
    "import matplotlib.pyplot as plt\n",
    "import matplotlib as mpl\n",
    "import pandas as pd\n",
    "import os\n",
    "\n",
    "#For plotting binned velocity profile\n",
    "from scipy.stats import binned_statistic as bstats"
   ]
  },
  {
   "cell_type": "code",
   "execution_count": 2,
   "metadata": {},
   "outputs": [],
   "source": [
    "# Import and apply style file for plots\n",
    "plt.style.use(\"mpl.style\")"
   ]
  },
  {
   "cell_type": "markdown",
   "metadata": {},
   "source": [
    "## System properties"
   ]
  },
  {
   "cell_type": "code",
   "execution_count": 3,
   "metadata": {},
   "outputs": [],
   "source": [
    "#LAMMPS script is in LJ units, so make sure these match\n",
    "\n",
    "#System size\n",
    "L_x = 10 #Size of the system\n",
    "L_y = L_x\n",
    "\n",
    "#Fluid properties\n",
    "eta = 0.01\n",
    "rho = 1\n",
    "nu = eta/rho\n",
    "\n",
    "#Oscillation properties\n",
    "u_0 = 0.1\n",
    "k_x = 2*np.pi/L_x\n",
    "k_y = 2*np.pi/L_y\n",
    "\n",
    "#Decay timescale\n",
    "tau = 1/nu/(k_x**2+k_y**2)"
   ]
  },
  {
   "cell_type": "markdown",
   "metadata": {},
   "source": [
    "#### Functional Expression for Velocity"
   ]
  },
  {
   "cell_type": "code",
   "execution_count": 4,
   "metadata": {},
   "outputs": [],
   "source": [
    "def vel_x_y_t(x,y,t,k_x,k_y,tau):\n",
    "    u_x = u_0*np.cos(k_x*x)*np.sin(k_y*y)\n",
    "    u_y = u_0*np.sin(k_x*x)*np.cos(k_y*y)\n",
    "    u_t = np.exp(-t/tau)\n",
    "    return u_x*u_t,u_y*u_t"
   ]
  },
  {
   "cell_type": "markdown",
   "metadata": {},
   "source": [
    "## Retrieve netCDF datasets"
   ]
  },
  {
   "cell_type": "code",
   "execution_count": 5,
   "metadata": {},
   "outputs": [],
   "source": [
    "from netCDF4 import Dataset"
   ]
  },
  {
   "cell_type": "code",
   "execution_count": 6,
   "metadata": {},
   "outputs": [],
   "source": [
    "filepath = '/home/epalermo/dev/test/taylor_green_2D/data_files'\n",
    "\n",
    "#Compile all filenames (value) and properties (key) into a dictionary\n",
    "data_files = {}\n",
    "\n",
    "for file in os.listdir(filepath):\n",
    "    \n",
    "    #Remove the .nc extension\n",
    "    #Collect the info for the run in an array\n",
    "    file_info = file.split(\".\")\n",
    "    file_info = file_info[0].split(\"_\")\n",
    "    \n",
    "    #File name\n",
    "    file_name = file\n",
    "    \n",
    "    #Add the files to datafiles dictionary\n",
    "    data_files[(file_info[0],file_info[1],file_info[2])]= filepath + \"/\" + file_name\n",
    "\n",
    "    "
   ]
  },
  {
   "cell_type": "markdown",
   "metadata": {},
   "source": [
    "## Error vs Resolution"
   ]
  },
  {
   "cell_type": "code",
   "execution_count": 7,
   "metadata": {},
   "outputs": [],
   "source": [
    "nf = 30 #Timestep at which velocity profile is sampled\n",
    "\n",
    "all_run_info = []\n",
    "\n",
    "for run in data_files:\n",
    "    run_info = list(run)\n",
    "    ds = Dataset(data_files[run])\n",
    "    \n",
    "    #Scaling\n",
    "    sf = 1/int(run_info[2])\n",
    "    N = L_x*L_y/sf**2\n",
    "    run_info.append(sf)\n",
    "    \n",
    "    #Coordinates and velocities\n",
    "    xd = ds['coordinates'][nf,:,0] #At timestep nf, for all particles, x position\n",
    "    yd = ds[\"coordinates\"][nf,:,1] #At timestep nf, for all particles, y position\n",
    "    vxd = ds[\"velocities\"][nf,:,0] #At timestep nf, for all particles, x position\n",
    "    vyd = ds['velocities'][nf,:,1] #At timestep nf, for all particles, y velocity\n",
    "    \n",
    "    #Values from analytical solution\n",
    "    ref_vxd, ref_vyd = vel_x_y_t(xd,yd,nf/200,k_x,k_y,tau)\n",
    "\n",
    "    #Error\n",
    "    error_x = np.sum(np.abs(vxd-ref_vxd))\n",
    "    error_y = np.sum(np.abs(vyd-ref_vyd))\n",
    "    L_1 = (error_x+error_y)/N\n",
    "    run_info.append(np.log(L_1))\n",
    "    \n",
    "    all_run_info.append(run_info)"
   ]
  },
  {
   "cell_type": "code",
   "execution_count": 8,
   "metadata": {},
   "outputs": [
    {
     "data": {
      "text/html": [
       "<div>\n",
       "<style scoped>\n",
       "    .dataframe tbody tr th:only-of-type {\n",
       "        vertical-align: middle;\n",
       "    }\n",
       "\n",
       "    .dataframe tbody tr th {\n",
       "        vertical-align: top;\n",
       "    }\n",
       "\n",
       "    .dataframe thead th {\n",
       "        text-align: right;\n",
       "    }\n",
       "</style>\n",
       "<table border=\"1\" class=\"dataframe\">\n",
       "  <thead>\n",
       "    <tr style=\"text-align: right;\">\n",
       "      <th></th>\n",
       "      <th>Shifting</th>\n",
       "      <th>RK</th>\n",
       "      <th>Resolution</th>\n",
       "      <th>sf</th>\n",
       "      <th>log_Error</th>\n",
       "      <th>log_Resolution</th>\n",
       "    </tr>\n",
       "  </thead>\n",
       "  <tbody>\n",
       "    <tr>\n",
       "      <th>8</th>\n",
       "      <td>0</td>\n",
       "      <td>1</td>\n",
       "      <td>2</td>\n",
       "      <td>0.50</td>\n",
       "      <td>-2.405899</td>\n",
       "      <td>2.995732</td>\n",
       "    </tr>\n",
       "    <tr>\n",
       "      <th>9</th>\n",
       "      <td>1</td>\n",
       "      <td>0</td>\n",
       "      <td>2</td>\n",
       "      <td>0.50</td>\n",
       "      <td>-2.511740</td>\n",
       "      <td>2.995732</td>\n",
       "    </tr>\n",
       "    <tr>\n",
       "      <th>12</th>\n",
       "      <td>0</td>\n",
       "      <td>0</td>\n",
       "      <td>2</td>\n",
       "      <td>0.50</td>\n",
       "      <td>-2.519508</td>\n",
       "      <td>2.995732</td>\n",
       "    </tr>\n",
       "    <tr>\n",
       "      <th>15</th>\n",
       "      <td>1</td>\n",
       "      <td>1</td>\n",
       "      <td>2</td>\n",
       "      <td>0.50</td>\n",
       "      <td>-2.513198</td>\n",
       "      <td>2.995732</td>\n",
       "    </tr>\n",
       "    <tr>\n",
       "      <th>0</th>\n",
       "      <td>1</td>\n",
       "      <td>0</td>\n",
       "      <td>4</td>\n",
       "      <td>0.25</td>\n",
       "      <td>-2.513591</td>\n",
       "      <td>3.688879</td>\n",
       "    </tr>\n",
       "    <tr>\n",
       "      <th>4</th>\n",
       "      <td>0</td>\n",
       "      <td>0</td>\n",
       "      <td>4</td>\n",
       "      <td>0.25</td>\n",
       "      <td>-2.514315</td>\n",
       "      <td>3.688879</td>\n",
       "    </tr>\n",
       "    <tr>\n",
       "      <th>6</th>\n",
       "      <td>1</td>\n",
       "      <td>1</td>\n",
       "      <td>4</td>\n",
       "      <td>0.25</td>\n",
       "      <td>-2.513797</td>\n",
       "      <td>3.688879</td>\n",
       "    </tr>\n",
       "    <tr>\n",
       "      <th>11</th>\n",
       "      <td>0</td>\n",
       "      <td>1</td>\n",
       "      <td>4</td>\n",
       "      <td>0.25</td>\n",
       "      <td>-1.914848</td>\n",
       "      <td>3.688879</td>\n",
       "    </tr>\n",
       "    <tr>\n",
       "      <th>2</th>\n",
       "      <td>1</td>\n",
       "      <td>1</td>\n",
       "      <td>10</td>\n",
       "      <td>0.10</td>\n",
       "      <td>-2.513728</td>\n",
       "      <td>4.605170</td>\n",
       "    </tr>\n",
       "    <tr>\n",
       "      <th>5</th>\n",
       "      <td>0</td>\n",
       "      <td>0</td>\n",
       "      <td>10</td>\n",
       "      <td>0.10</td>\n",
       "      <td>-2.499623</td>\n",
       "      <td>4.605170</td>\n",
       "    </tr>\n",
       "    <tr>\n",
       "      <th>7</th>\n",
       "      <td>0</td>\n",
       "      <td>1</td>\n",
       "      <td>10</td>\n",
       "      <td>0.10</td>\n",
       "      <td>-2.514220</td>\n",
       "      <td>4.605170</td>\n",
       "    </tr>\n",
       "    <tr>\n",
       "      <th>14</th>\n",
       "      <td>1</td>\n",
       "      <td>0</td>\n",
       "      <td>10</td>\n",
       "      <td>0.10</td>\n",
       "      <td>-2.513669</td>\n",
       "      <td>4.605170</td>\n",
       "    </tr>\n",
       "    <tr>\n",
       "      <th>1</th>\n",
       "      <td>0</td>\n",
       "      <td>0</td>\n",
       "      <td>20</td>\n",
       "      <td>0.05</td>\n",
       "      <td>-2.513616</td>\n",
       "      <td>5.298317</td>\n",
       "    </tr>\n",
       "    <tr>\n",
       "      <th>3</th>\n",
       "      <td>0</td>\n",
       "      <td>1</td>\n",
       "      <td>20</td>\n",
       "      <td>0.05</td>\n",
       "      <td>-2.513852</td>\n",
       "      <td>5.298317</td>\n",
       "    </tr>\n",
       "    <tr>\n",
       "      <th>10</th>\n",
       "      <td>1</td>\n",
       "      <td>1</td>\n",
       "      <td>20</td>\n",
       "      <td>0.05</td>\n",
       "      <td>-2.513737</td>\n",
       "      <td>5.298317</td>\n",
       "    </tr>\n",
       "    <tr>\n",
       "      <th>13</th>\n",
       "      <td>1</td>\n",
       "      <td>0</td>\n",
       "      <td>20</td>\n",
       "      <td>0.05</td>\n",
       "      <td>-2.513723</td>\n",
       "      <td>5.298317</td>\n",
       "    </tr>\n",
       "  </tbody>\n",
       "</table>\n",
       "</div>"
      ],
      "text/plain": [
       "   Shifting RK Resolution    sf  log_Error  log_Resolution\n",
       "8         0  1          2  0.50  -2.405899        2.995732\n",
       "9         1  0          2  0.50  -2.511740        2.995732\n",
       "12        0  0          2  0.50  -2.519508        2.995732\n",
       "15        1  1          2  0.50  -2.513198        2.995732\n",
       "0         1  0          4  0.25  -2.513591        3.688879\n",
       "4         0  0          4  0.25  -2.514315        3.688879\n",
       "6         1  1          4  0.25  -2.513797        3.688879\n",
       "11        0  1          4  0.25  -1.914848        3.688879\n",
       "2         1  1         10  0.10  -2.513728        4.605170\n",
       "5         0  0         10  0.10  -2.499623        4.605170\n",
       "7         0  1         10  0.10  -2.514220        4.605170\n",
       "14        1  0         10  0.10  -2.513669        4.605170\n",
       "1         0  0         20  0.05  -2.513616        5.298317\n",
       "3         0  1         20  0.05  -2.513852        5.298317\n",
       "10        1  1         20  0.05  -2.513737        5.298317\n",
       "13        1  0         20  0.05  -2.513723        5.298317"
      ]
     },
     "execution_count": 8,
     "metadata": {},
     "output_type": "execute_result"
    }
   ],
   "source": [
    "df = pd.DataFrame(all_run_info, columns=[\"Shifting\",\"RK\",\"Resolution\",\"sf\",\"log_Error\"])\n",
    "df[\"log_Resolution\"]=np.log(L_x/df[\"sf\"])\n",
    "df.sort_values(by=[\"log_Resolution\"], inplace=True)\n",
    "df"
   ]
  },
  {
   "cell_type": "code",
   "execution_count": 9,
   "metadata": {},
   "outputs": [
    {
     "name": "stdout",
     "output_type": "stream",
     "text": [
      "   Shifting RK Resolution    sf  log_Error  log_Resolution\n",
      "8         0  1          2  0.50  -2.405899        2.995732\n",
      "11        0  1          4  0.25  -1.914848        3.688879\n",
      "7         0  1         10  0.10  -2.514220        4.605170\n",
      "3         0  1         20  0.05  -2.513852        5.298317\n",
      "   Shifting RK Resolution    sf  log_Error  log_Resolution\n",
      "12        0  0          2  0.50  -2.519508        2.995732\n",
      "4         0  0          4  0.25  -2.514315        3.688879\n",
      "5         0  0         10  0.10  -2.499623        4.605170\n",
      "1         0  0         20  0.05  -2.513616        5.298317\n",
      "   Shifting RK Resolution    sf  log_Error  log_Resolution\n",
      "9         1  0          2  0.50  -2.511740        2.995732\n",
      "0         1  0          4  0.25  -2.513591        3.688879\n",
      "14        1  0         10  0.10  -2.513669        4.605170\n",
      "13        1  0         20  0.05  -2.513723        5.298317\n",
      "   Shifting RK Resolution    sf  log_Error  log_Resolution\n",
      "15        1  1          2  0.50  -2.513198        2.995732\n",
      "6         1  1          4  0.25  -2.513797        3.688879\n",
      "2         1  1         10  0.10  -2.513728        4.605170\n",
      "10        1  1         20  0.05  -2.513737        5.298317\n"
     ]
    },
    {
     "data": {
      "text/plain": [
       "Text(0.5, 0, '$\\\\log{(\\\\frac{L}{\\\\Delta x})}$')"
      ]
     },
     "execution_count": 9,
     "metadata": {},
     "output_type": "execute_result"
    },
    {
     "data": {
      "image/png": "[encoded data removed]",
      "text/plain": [
       "<Figure size 720x576 with 1 Axes>"
      ]
     },
     "metadata": {},
     "output_type": "display_data"
    }
   ],
   "source": [
    "fig = plt.figure()\n",
    "\n",
    "\n",
    "for i in df[\"Shifting\"].unique():\n",
    "    df_1 = df[df[\"Shifting\"]==i]\n",
    "    for j in df_1[\"RK\"].unique():\n",
    "        df_2 = df_1[df_1[\"RK\"]==j]\n",
    "        label = \"Shifting: \" + i + \"  \" +\"RK: \" + j\n",
    "        plt.plot(df_2[\"log_Resolution\"],df_2[\"log_Error\"],label=label)\n",
    "        print(df_2)\n",
    "        \n",
    "plt.legend()\n",
    "plt.ylabel(r\"$\\log{(\\frac{L_1}{N})}$\")\n",
    "plt.xlabel(r\"$\\log{(\\frac{L}{\\Delta x})}$\")"
   ]
  },
  {
   "cell_type": "code",
   "execution_count": null,
   "metadata": {},
   "outputs": [],
   "source": []
  },
  {
   "cell_type": "code",
   "execution_count": null,
   "metadata": {},
   "outputs": [],
   "source": []
  }
 ],
 "metadata": {
  "kernelspec": {
   "display_name": "Python 3 (ipykernel)",
   "language": "python",
   "name": "python3"
  },
  "language_info": {
   "codemirror_mode": {
    "name": "ipython",
    "version": 3
   },
   "file_extension": ".py",
   "mimetype": "text/x-python",
   "name": "python",
   "nbconvert_exporter": "python",
   "pygments_lexer": "ipython3",
   "version": "3.9.7"
  }
 },
 "nbformat": 4,
 "nbformat_minor": 4
}
