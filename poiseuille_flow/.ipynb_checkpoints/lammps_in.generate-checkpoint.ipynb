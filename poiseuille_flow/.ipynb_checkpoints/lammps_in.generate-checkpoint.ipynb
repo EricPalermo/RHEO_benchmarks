{
 "cells": [
  {
   "cell_type": "code",
   "execution_count": 1,
   "id": "868b15ad",
   "metadata": {},
   "outputs": [],
   "source": [
    "import shutil\n",
    "import os"
   ]
  },
  {
   "cell_type": "code",
   "execution_count": 2,
   "id": "f53a4e29",
   "metadata": {},
   "outputs": [
    {
     "data": {
      "text/plain": [
       "'/home/epalermo/dev/test/poiseuille_flow'"
      ]
     },
     "execution_count": 2,
     "metadata": {},
     "output_type": "execute_result"
    }
   ],
   "source": [
    "pwd = os.getcwd()\n",
    "#pwd += \"/rheo_bench/channel/\"\n",
    "pwd"
   ]
  },
  {
   "cell_type": "markdown",
   "id": "f7d00083-9c74-4878-bacb-02da27f7cc8a",
   "metadata": {},
   "source": [
    "# Generate LAMMPS Input Scripts"
   ]
  },
  {
   "cell_type": "code",
   "execution_count": 3,
   "id": "f4fae2f7",
   "metadata": {},
   "outputs": [],
   "source": [
    "#parameter grids\n",
    "var_model_grid = {\"fix                2 all rheo/viscosity constant ${eta}\":\"0\",\n",
    "                  \"fix                2 all rheo/viscosity power ${eta} ${gd0} ${K} ${npow}\":\"1\"}\n",
    "var_sf_grid = {\"0.2\":\"5\"}\n",
    "var_hd_grid = {\"3.5\":\"3p5\"}\n",
    "var_eta_grid = {\"0.01\":\"p01\"}\n",
    "var_fext_grid = {\"1e-5\":\"5\"}\n",
    "var_kernel_grid = {\"CRK0\":\"0\",\"CRK1\":\"1\",\"CRK2\":\"2\",\"Quintic\":\"5\"}\n",
    "\n",
    "#constants\n",
    "sf = \"0.2\"\n",
    "fext = \"1e-5\"\n",
    "eta = \"0.01\""
   ]
  },
  {
   "cell_type": "code",
   "execution_count": 4,
   "id": "16e15db1",
   "metadata": {},
   "outputs": [],
   "source": [
    "#Generate lammps files\n",
    "\n",
    "out_filepath = wall_debug_03_25\n",
    "\n",
    "filenames = []\n",
    "for model in var_model_grid:\n",
    "    for eta in var_eta_grid:\n",
    "        for hd in var_hd_grid:\n",
    "            for kernel in var_kernel_grid:\n",
    "                run_code = var_model_grid[model]+\"_\"+var_kernel_grid[kernel]+\"_\"+var_sf_grid[sf]+\"_\"+var_hd_grid[hd]+\"_\"+var_eta_grid[eta]+\"_\"+fext\n",
    "                filename = \"lammps_in__\"+run_code\n",
    "                file = shutil.copyfile(\"lammps_in.template\",pwd+\"/\"+filename)\n",
    "                file_in = open(file,\"rt\")\n",
    "                file_text = file_in.read()\n",
    "\n",
    "                #Replace variables\n",
    "                file_text = file_text.replace(\"var_sf\",sf)\n",
    "                file_text = file_text.replace(\"var_hd\",hd)\n",
    "                file_text = file_text.replace(\"var_fext\",fext)\n",
    "                file_text = file_text.replace(\"var_eta\",eta)\n",
    "                file_text = file_text.replace(\"var_kernel\",kernel)\n",
    "                file_text = file_text.replace(\"var_model\",model)\n",
    "                file_text = file_text.replace(\"var_ncdf_path\",out_filepath+\"/ncdf/\"+run_code)\n",
    "                file_text = file_text.replace(\"var_dump_path\",out_filepath+\"/ncdf/\"+run_code)\n",
    "\n",
    "                file_out = open(file,\"wt\")\n",
    "                file_out.write(file_text)\n",
    "                \n",
    "                filenames.append(filename)"
   ]
  },
  {
   "cell_type": "code",
   "execution_count": 5,
   "id": "410b1f96-472b-434f-8c80-7f893886c5e1",
   "metadata": {},
   "outputs": [
    {
     "data": {
      "text/plain": [
       "['lammps_in__0_0_5_3p5_p01_1e-5',\n",
       " 'lammps_in__0_1_5_3p5_p01_1e-5',\n",
       " 'lammps_in__0_2_5_3p5_p01_1e-5',\n",
       " 'lammps_in__0_5_5_3p5_p01_1e-5',\n",
       " 'lammps_in__1_0_5_3p5_p01_1e-5',\n",
       " 'lammps_in__1_1_5_3p5_p01_1e-5',\n",
       " 'lammps_in__1_2_5_3p5_p01_1e-5',\n",
       " 'lammps_in__1_5_5_3p5_p01_1e-5']"
      ]
     },
     "execution_count": 5,
     "metadata": {},
     "output_type": "execute_result"
    }
   ],
   "source": [
    "filenames"
   ]
  },
  {
   "cell_type": "markdown",
   "id": "15df3ebb-98ef-4755-9c94-65ceb06bd277",
   "metadata": {},
   "source": [
    "# Write the Jobscript"
   ]
  },
  {
   "cell_type": "code",
   "execution_count": 6,
   "id": "a90579a8-b9a5-4cda-b253-9e6dfc0a4639",
   "metadata": {},
   "outputs": [],
   "source": [
    "account=\"FY150028\"\n",
    "job_name=\"TestChannel\"\n",
    "time=\"24:0:0\"\n",
    "partition=\"batch\"\n",
    "nodes=\"1\"\n",
    "ntasks_per_node=\"16\"\n",
    "run_command = \"mpirun -np 16 /ascldap/users/etpaler/dev/lammps_rheo/lammps/build/lmp -in \""
   ]
  },
  {
   "cell_type": "code",
   "execution_count": 7,
   "id": "aa0d1579-6edf-4358-894c-44fef3ce9de4",
   "metadata": {},
   "outputs": [],
   "source": [
    "with open(\"jobscript\",\"w\") as jobscript:\n",
    "        #---shebang---#\n",
    "        jobscript.write(\"#!/bin/bash\\n\\n\")\n",
    "\n",
    "        #---slurm commands---#\n",
    "        jobscript.write(\"#SBATCH --account={}\\n\".format(account))\n",
    "        jobscript.write(\"#SBATCH --job-name={}\\n\".format(job_name))\n",
    "        jobscript.write(\"#SBATCH --time={}\\n\".format(time))\n",
    "        jobscript.write(\"#SBATCH --partition={}\\n\".format(partition))\n",
    "        jobscript.write(\"#SBATCH --nodes={}\\n\".format(nodes))\n",
    "        jobscript.write(\"#SBATCH --ntasks-per-node={}\\n\\n\".format(ntasks_per_node))\n",
    "        \n",
    "        jobscript.write(\"module load cmake/3.20.3 intel/18.0.0.128 openmpi-intel/4.1 mkl/18.0.0.128\\n\\n\")\n",
    "        \n",
    "        for filename in filenames:\n",
    "            jobscript.write(run_command+filename+\"\\n\")\n",
    "            \n",
    "        jobscript.write(\"\\n\")"
   ]
  },
  {
   "cell_type": "code",
   "execution_count": null,
   "id": "00a8959b-96eb-4c41-a860-52d44b071495",
   "metadata": {},
   "outputs": [],
   "source": []
  },
  {
   "cell_type": "code",
   "execution_count": null,
   "id": "fb905275",
   "metadata": {},
   "outputs": [],
   "source": []
  }
 ],
 "metadata": {
  "kernelspec": {
   "display_name": "Python 3 (ipykernel)",
   "language": "python",
   "name": "python3"
  },
  "language_info": {
   "codemirror_mode": {
    "name": "ipython",
    "version": 3
   },
   "file_extension": ".py",
   "mimetype": "text/x-python",
   "name": "python",
   "nbconvert_exporter": "python",
   "pygments_lexer": "ipython3",
   "version": "3.9.7"
  }
 },
 "nbformat": 4,
 "nbformat_minor": 5
}
