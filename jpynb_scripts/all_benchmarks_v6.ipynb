{
 "cells": [
  {
   "cell_type": "code",
   "execution_count": 2,
   "id": "766b0530",
   "metadata": {},
   "outputs": [],
   "source": [
    "import numpy as np\n",
    "import matplotlib.pyplot as plt\n",
    "import matplotlib as mpl\n",
    "import pandas as pd\n",
    "from scipy.stats import linregress\n",
    "from scipy.integrate import odeint\n",
    "\n",
    "import os\n",
    "from netCDF4 import Dataset\n",
    "import matplotlib.ticker as mticker\n",
    "from matplotlib.lines import Line2D\n"
   ]
  },
  {
   "cell_type": "code",
   "execution_count": 3,
   "id": "4570590d",
   "metadata": {},
   "outputs": [],
   "source": [
    "# Import and apply style file for plots\n",
    "plt.style.use(\"mpl.style\")\n",
    "%matplotlib inline"
   ]
  },
  {
   "cell_type": "markdown",
   "id": "0e02798b",
   "metadata": {},
   "source": [
    "### Table of Contents\n",
    "\n",
    "* [Functions](#Functions)\n",
    "    * [General](#general)\n",
    "        * [File Handling](#file_handling)\n",
    "        * [Extract LAMMPS Data](#extract_LAMMPS_data)\n",
    "        * [Plotting](#plotting)\n",
    "* [Test Cases](#test_cases)\n",
    "    * [Taylor-Green Vortex](#TG_funcs)\n",
    "    * [Poiseuille Flow](#PF_funcs)\n",
    "    * [Extended Droplet](#ED_funcs)\n",
    "    * [Kernel Convergence - Velocity Gradient](#gradv_funcs)\n",
    "    * [Kernel Convergence - Surface Normals](#surf_funcs)"
   ]
  },
  {
   "cell_type": "markdown",
   "id": "a81d2013",
   "metadata": {},
   "source": [
    "# Functions <a class=\"anchor\" id=\"Functions\"></a>\n"
   ]
  },
  {
   "cell_type": "markdown",
   "id": "7bd0b52b",
   "metadata": {},
   "source": [
    "## General <a class=\"anchor\" id=\"general\"></a>"
   ]
  },
  {
   "cell_type": "markdown",
   "id": "a3ad0656",
   "metadata": {},
   "source": [
    "### File Handling <a class=\"anchor\" id=\"file_handling\"></a>"
   ]
  },
  {
   "cell_type": "markdown",
   "id": "d4c9a76d",
   "metadata": {},
   "source": [
    "Files will follow the common naming convention: a_b_c_comments.nc\n",
    "* a is flexible and can denote shifting on/off, verlet integrator type, fluid model, etc. The meaning of a is specified on a case by case basis\n",
    "* b is the kernel type: Quintic = 5, CRK0 =0, CRK1 = 1, CRK2 = 2\n",
    "* c is the scale factor (sf the lammps script)\n",
    "* comments is any additional descriptors for the run, but will not appear on the plot or in the labels"
   ]
  },
  {
   "cell_type": "code",
   "execution_count": 4,
   "id": "a8c3dcaa",
   "metadata": {},
   "outputs": [],
   "source": [
    "#Compile all filenames in a given directory into a dictionary\n",
    "#value=filepath, key = run properties\n",
    "def generate_file_names(filepath):\n",
    "    data_files = {}\n",
    "\n",
    "    for file in os.listdir(filepath):\n",
    "\n",
    "        #Remove the .nc extension\n",
    "        #Collect the info for the run in an array\n",
    "        file_info = file.split(\".\")\n",
    "        file_info = file_info[0].split(\"_\")\n",
    "\n",
    "        #File name\n",
    "        file_name = file\n",
    "\n",
    "        #Add the files to datafiles dictionary\n",
    "        data_files[(file_info[0],file_info[1],file_info[2])]= filepath + \"/\" + file_name\n",
    "    return data_files\n",
    "\n",
    "#Collect run info from a file name\n",
    "def parse_file_name(run_file):\n",
    "    run_info = list(run_file)[0:2]\n",
    "    #keep var_0 as numeric (so it's generic), only replace with string for labels\n",
    "    #run_info[0]=var_0_key[var_0]\n",
    "    run_info[1]=var_1_key[run_info[1]]\n",
    "    \n",
    "    return run_info\n",
    "\n",
    "#Extract and calculate variables dependent on scale factor sf\n",
    "def scaling_vars(run):\n",
    "    sf = 1/int(list(run)[2]) #Scaling of unit cell\n",
    "    L_z = h3*(d-2)*sf #Account for L_z if d=3\n",
    "    n = 1/sf**d #Number density - number of particles per volume\n",
    "    mp = rho0/n #Mass of particles (density is constant)\n",
    "    if d == 3:\n",
    "        N = R*R*L_z/sf**d # Total number of atoms\n",
    "    elif d == 2:\n",
    "        N = R*R/sf**d \n",
    "    return sf, mp, N\n",
    "\n",
    "def gather_run_info(run,data_files):\n",
    "    \n",
    "    run_info = parse_file_name(run)\n",
    "    ds = Dataset(data_files[run])\n",
    "    sf, mp, N = scaling_vars(run)\n",
    "    run_info.append(sf)\n",
    "\n",
    "    return run_info, ds, sf, mp, N"
   ]
  },
  {
   "cell_type": "markdown",
   "id": "6d2e2e6a",
   "metadata": {},
   "source": [
    "### LAMMPS Data <a class=\"anchor\" id=\"extract_LAMMPS_data\"></a>"
   ]
  },
  {
   "cell_type": "code",
   "execution_count": 5,
   "id": "818a2ce4",
   "metadata": {},
   "outputs": [],
   "source": [
    "#Returns coordinates and velocities for all particles at each timestep\n",
    "def extract_velocity_data(ds):\n",
    "    td = ds[\"time\"][:]\n",
    "    xd = ds['coordinates'][:,:,0] #At timestep nf, for all particles, x position\n",
    "    yd = ds[\"coordinates\"][:,:,1] #At timestep nf, for all particles, y position\n",
    "    vxd = ds[\"velocities\"][:,:,0] #At timestep nf, for all particles, x position\n",
    "    vyd = ds['velocities'][:,:,1] #At timestep nf, for all particles, y velocity\n",
    "    return td,xd,yd,vxd,vyd\n",
    "\n",
    "def calc_KE(td,xd,yd,vxd,vyd,mp):\n",
    "    Exd = 0.5*mp*(np.sum(np.abs(vxd), axis=1))**2\n",
    "    Eyd = 0.5*mp*(np.sum(np.abs(vyd), axis=1))**2\n",
    "    E_tot = Exd+Eyd\n",
    "    return E_tot\n",
    "    "
   ]
  },
  {
   "cell_type": "markdown",
   "id": "c5e0fc83",
   "metadata": {},
   "source": [
    "### Plotting <a class=\"anchor\" id=\"plotting\"></a>"
   ]
  },
  {
   "cell_type": "code",
   "execution_count": 6,
   "id": "9c725834",
   "metadata": {},
   "outputs": [],
   "source": [
    "#Plot types\n",
    "\n",
    "#Normalized Error Plot#\n",
    "#Input is a dataframe with columns [\"shifting\",\"CRK\",\"sf\",\"L1 norm\"]\n",
    "#L1 will vary, e.g. viscosity, surface normal, velocity gradient, etc.\n",
    "def plot_normalized_error(all_run_info):\n",
    "    df = pd.DataFrame(all_run_info, columns=[\"var0\",\"CRK\",\"sf\",\"Surf Normal Normalized Error\"])    \n",
    "    #df.sort_values(by=[\"sf\",\"CRK\"], inplace=True)\n",
    "    df.sort_values(by=[\"sf\"], inplace=True)\n",
    "    L1_label = df.iloc[:,-1:].columns[0]\n",
    "    for i in df[\"var0\"].unique():\n",
    "        df_1 = df[df[\"var0\"]==i]\n",
    "        for j in df_1[\"CRK\"].unique():\n",
    "            df_2 = df_1[df_1[\"CRK\"]==j]\n",
    "            df_2 = df_2.sort_values(by=[\"sf\"])\n",
    "            label = j\n",
    "            plt.loglog(R/df_2[\"sf\"],df_2[L1_label],\n",
    "                       marker=plot_key[j][0],\n",
    "                       linestyle=plot_key[i],\n",
    "                       markerfacecolor=\"None\",\n",
    "                       color=plot_key[j][1],\n",
    "                       label=label)\n",
    "            #print(df_2)\n",
    "            \n",
    "\n",
    "#Generic y vs x profile (e.g. velocity vs time)        \n",
    "def plot_profile(x,y,run_info, ax, plot_type, plot_key):\n",
    "    ax = ax\n",
    "    if plot_type == \"data\":\n",
    "        ax.plot(x, y,\n",
    "                        linestyle=plot_key[run_info[0]],\n",
    "                        marker=plot_key[run_info[1]][0],\n",
    "                        markevery=0.2,\n",
    "                        markerfacecolor=\"None\",\n",
    "                        color=plot_key[run_info[1]][1],\n",
    "                        label = run_info[1])\n",
    "    if plot_type == \"analytic\":\n",
    "        ax.plot(x, y,\n",
    "                   label = \"Analytic\",\n",
    "                   color=\"red\",\n",
    "                   linestyle=\"solid\")"
   ]
  },
  {
   "cell_type": "code",
   "execution_count": 7,
   "id": "ecfd3487",
   "metadata": {},
   "outputs": [],
   "source": [
    "#Plot formatting\n",
    "\n",
    "#Retrieve the default labels and handles\n",
    "def order_labels(ax):\n",
    "    label_order_dict = {\"Quintic\":0,\"CRK0\":1,\"CRK1\":2,\"CRK2\":3,\"Analytic\":4,\"other\":5}\n",
    "    handles,labels = ax.get_legend_handles_labels()\n",
    "    label_order_unsorted = []\n",
    "    labels_sorted = []\n",
    "    for label in labels:\n",
    "        if label in label_order_dict:\n",
    "            label_order_unsorted.append([label_order_dict[label],label])\n",
    "        else:\n",
    "            label_order_unsorted.append([label_order_dict[\"other\"],label])\n",
    "    label_order_sorted = sorted(label_order_unsorted)\n",
    "    for label in label_order_sorted:\n",
    "        labels_sorted.append(label[1])\n",
    "\n",
    "    handle_dict = dict(zip(labels,handles))\n",
    "    handles_sorted = []\n",
    "    for i in labels_sorted:\n",
    "        handles_sorted.append(handle_dict[i])\n",
    "    \n",
    "    return handles_sorted, labels_sorted\n",
    "\n",
    "#Generate custom plot handles for the given labels\n",
    "def generate_handles(ax):\n",
    "    handles,labels = order_labels(ax)\n",
    "    labels_unique = [x for i, x in enumerate(labels) if labels.index(x) == i]\n",
    "    custom_handles = []\n",
    "    for label in labels_unique:\n",
    "        custom_handles.append(Line2D((0,1), (0,0), color=plot_key[label][1], marker=plot_key[label][0], markerfacecolor=\"None\", label=label))\n",
    "    for i in var_0_key:\n",
    "        custom_handles.append(Line2D((0,1), (0,0), color=\"black\", linestyle=plot_key[i],  markerfacecolor=\"None\",label=var_0_key[i]))\n",
    "    return custom_handles\n",
    "        \n",
    "\n",
    "#Manually change the plot format to suit the data\n",
    "def format_plot(fig, ax, plot_params):\n",
    "    for i, ax in enumerate(fig.axes):\n",
    "        #Axis labels and limits\n",
    "        x_lab,y_lab,x_lim,y_lim,legend_loc = plot_params[i]\n",
    "        ax.set_xlabel(x_lab)\n",
    "        ax.set_ylabel(y_lab)\n",
    "        ax.set_xlim(x_lim)\n",
    "        ax.set_ylim(y_lim)\n",
    "        #Legend\n",
    "        handles = generate_handles(ax)\n",
    "        ax.legend(handles=handles, loc=legend_loc)\n",
    "    if type(ax)=='numpy.ndarray':\n",
    "        plt.tight_layout()"
   ]
  },
  {
   "cell_type": "markdown",
   "id": "3792768b",
   "metadata": {},
   "source": [
    "# Test Cases <a class=\"anchor\" id=\"test_cases\"></a>"
   ]
  },
  {
   "cell_type": "code",
   "execution_count": 7,
   "id": "e107279d",
   "metadata": {},
   "outputs": [],
   "source": [
    "#Global keys\n",
    "var_1_key = {\"5\":\"Quintic\",\"0\":\"CRK0\", \"1\":\"CRK1\", \"2\":\"CRK2\"}\n",
    "\n",
    "plot_key = {\"Quintic\":[\"o\",\"#5ec962\"],\"CRK0\":[\"X\",\"#21918c\"], \"CRK1\":[\"s\",\"#3b528b\"],\"CRK2\":[\"d\",\"#440154\"],\n",
    "            \"Analytic\":[\"\",\"red\"],\"0\":\"dashed\",\"1\":\"dotted\"} #Viridis colors\n",
    "\n",
    "#plot_key_1 = {\"Quintic\":[\"o\",\"#0d0887\"],\"CRK0\":[\"X\",\"#7e03a8\"], \"CRK1\":[\"s\",\"#7e03a8\"],\"CRK2\":[\"d\",\"#f89540\"]} #Warm colors\n"
   ]
  },
  {
   "cell_type": "markdown",
   "id": "2e468a1f",
   "metadata": {},
   "source": [
    "## Taylor-Green Vortex <a class=\"anchor\" id=\"TG_funcs\"></a>"
   ]
  },
  {
   "cell_type": "code",
   "execution_count": 8,
   "id": "1fc41817",
   "metadata": {
    "jupyter": {
     "source_hidden": true
    },
    "tags": []
   },
   "outputs": [],
   "source": [
    "#Analytical velocity profile\n",
    "def vel_x_y_t(x,y,t,k_x,k_y,tau):\n",
    "    u_x = -u_0*np.cos(k_x*x)*np.sin(k_y*y)\n",
    "    u_y = u_0*np.sin(k_x*x)*np.cos(k_y*y)\n",
    "    u_t = np.exp(-t/tau)\n",
    "    return np.sum(np.abs(u_x), axis=1)*u_t , np.sum(np.abs(u_y), axis=1)*u_t\n",
    "\n",
    "#Pressure decay profile\n",
    "def calc_rho_max_ref(td,xd,yd,vxd,vyd):\n",
    "    cs = 4.0\n",
    "    v0 = np.sqrt(xd**2+yd**2)[0]\n",
    "    F_t = np.exp(-2*nu*td)\n",
    "    rho_max = rho0+np.max(v0**2*rho0/cs**2/4*(np.cos(2*k_x*xd)+np.cos(2*k_y*yd)),axis=1)*F_t**2\n",
    "\n",
    "    return rho_max\n",
    "    \n",
    "\n",
    "#Calculate actual and theoretical kinetic energy given coordinate and velocity data\n",
    "def calc_TG_KE(td,xd,yd,vxd,vyd,mp):\n",
    "    #Actual\n",
    "    Exd = 0.5*mp*(np.sum(np.abs(vxd), axis=1))**2\n",
    "    Eyd = 0.5*mp*(np.sum(np.abs(vyd), axis=1))**2\n",
    "    E_tot = Exd+Eyd\n",
    "    #Analytic\n",
    "    ref_vx, ref_vy = vel_x_y_t(xd,yd,td,k_x,k_y,tau) #Total velocity magnitude in x,y\n",
    "    ref_Ex = 0.5*mp*(ref_vx)**2\n",
    "    ref_Ey = 0.5*mp*(ref_vy)**2\n",
    "    ref_E_tot = (ref_Ex + ref_Ey)\n",
    "    \n",
    "    return td, E_tot, ref_E_tot\n",
    "\n",
    "def calc_viscosity_error(td, E_tot, ref_E_tot):\n",
    "    \n",
    "    #Viscosity calculation from slope of semilogy(E_tot vs t)\n",
    "    slope_d = linregress(td, np.log(E_tot/E_tot[0]))[0]\n",
    "    nu_d = -slope_d/(2*(k_x**2+k_y**2)) #Kinematic viscosity from data\n",
    "        \n",
    "    #Viscosity calculation from analytical solution\n",
    "    slope_ref = linregress(td, np.log(ref_E_tot/ref_E_tot[0]))[0]\n",
    "    nu_ref = -slope_ref/(2*(k_x**2+k_y**2)) #Kinematic viscosity from data\n",
    "\n",
    "    #Error\n",
    "    nu_error = np.abs(nu_ref-nu_d)\n",
    "    \n",
    "    return nu_error"
   ]
  },
  {
   "cell_type": "markdown",
   "id": "6995d500",
   "metadata": {
    "jupyter": {
     "source_hidden": true
    },
    "tags": []
   },
   "source": [
    "### Test Case 1\n",
    "Compares the performance of all kernel types when shifting is turned on and off. Ran with rlammps_rho_evol"
   ]
  },
  {
   "cell_type": "code",
   "execution_count": 9,
   "id": "a2309cca",
   "metadata": {
    "jupyter": {
     "source_hidden": true
    },
    "tags": []
   },
   "outputs": [
    {
     "ename": "FileNotFoundError",
     "evalue": "[Errno 2] No such file or directory: '/home/epalermo/dev/test/taylor_green_vortex/taylor_green_2D/old_data_files/rho_evol/data_files'",
     "output_type": "error",
     "traceback": [
      "\u001b[0;31m---------------------------------------------------------------------------\u001b[0m",
      "\u001b[0;31mFileNotFoundError\u001b[0m                         Traceback (most recent call last)",
      "\u001b[0;32m/tmp/ipykernel_5048/1718433374.py\u001b[0m in \u001b[0;36m<module>\u001b[0;34m\u001b[0m\n\u001b[1;32m     30\u001b[0m \u001b[0;31m#################################\u001b[0m\u001b[0;34m\u001b[0m\u001b[0;34m\u001b[0m\u001b[0m\n\u001b[1;32m     31\u001b[0m \u001b[0mfilepath\u001b[0m \u001b[0;34m=\u001b[0m \u001b[0;34m'/home/epalermo/dev/test/taylor_green_vortex/taylor_green_2D/old_data_files/rho_evol/data_files'\u001b[0m\u001b[0;34m\u001b[0m\u001b[0;34m\u001b[0m\u001b[0m\n\u001b[0;32m---> 32\u001b[0;31m \u001b[0mdata_files\u001b[0m \u001b[0;34m=\u001b[0m \u001b[0mgenerate_file_names\u001b[0m\u001b[0;34m(\u001b[0m\u001b[0mfilepath\u001b[0m\u001b[0;34m)\u001b[0m\u001b[0;34m\u001b[0m\u001b[0;34m\u001b[0m\u001b[0m\n\u001b[0m\u001b[1;32m     33\u001b[0m \u001b[0;34m\u001b[0m\u001b[0m\n\u001b[1;32m     34\u001b[0m \u001b[0mall_run_info\u001b[0m \u001b[0;34m=\u001b[0m \u001b[0;34m[\u001b[0m\u001b[0;34m]\u001b[0m\u001b[0;34m\u001b[0m\u001b[0;34m\u001b[0m\u001b[0m\n",
      "\u001b[0;32m/tmp/ipykernel_5048/2958407216.py\u001b[0m in \u001b[0;36mgenerate_file_names\u001b[0;34m(filepath)\u001b[0m\n\u001b[1;32m      4\u001b[0m     \u001b[0mdata_files\u001b[0m \u001b[0;34m=\u001b[0m \u001b[0;34m{\u001b[0m\u001b[0;34m}\u001b[0m\u001b[0;34m\u001b[0m\u001b[0;34m\u001b[0m\u001b[0m\n\u001b[1;32m      5\u001b[0m \u001b[0;34m\u001b[0m\u001b[0m\n\u001b[0;32m----> 6\u001b[0;31m     \u001b[0;32mfor\u001b[0m \u001b[0mfile\u001b[0m \u001b[0;32min\u001b[0m \u001b[0mos\u001b[0m\u001b[0;34m.\u001b[0m\u001b[0mlistdir\u001b[0m\u001b[0;34m(\u001b[0m\u001b[0mfilepath\u001b[0m\u001b[0;34m)\u001b[0m\u001b[0;34m:\u001b[0m\u001b[0;34m\u001b[0m\u001b[0;34m\u001b[0m\u001b[0m\n\u001b[0m\u001b[1;32m      7\u001b[0m \u001b[0;34m\u001b[0m\u001b[0m\n\u001b[1;32m      8\u001b[0m         \u001b[0;31m#Remove the .nc extension\u001b[0m\u001b[0;34m\u001b[0m\u001b[0;34m\u001b[0m\u001b[0m\n",
      "\u001b[0;31mFileNotFoundError\u001b[0m: [Errno 2] No such file or directory: '/home/epalermo/dev/test/taylor_green_vortex/taylor_green_2D/old_data_files/rho_evol/data_files'"
     ]
    },
    {
     "data": {
      "image/png": "[encoded data removed]",
      "text/plain": [
       "<Figure size 720x1080 with 2 Axes>"
      ]
     },
     "metadata": {
      "needs_background": "light"
     },
     "output_type": "display_data"
    }
   ],
   "source": [
    "#################################\n",
    "# Test-specific keys\n",
    "#################################\n",
    "var_0_key = {\"0\":\"Shifting Off\",\"1\":\"Shifting On\"} #Viscosity calc method\n",
    "plot_key[\"Slope = -4\"]=[\"\",\"red\"]\n",
    "\n",
    "#################################\n",
    "# Simulation parameters\n",
    "#################################\n",
    "d = 2 #dimensions\n",
    "h3 = 3.5 #smoothing length coefficient\n",
    "R = 10 #system size\n",
    "\n",
    "rho0 = 1 #density\n",
    "eta = 0.1 # dynamic viscosity\n",
    "nu = eta/rho0 #kinematic viscosity\n",
    "\n",
    "u_0 = 0.1 #velocity scale\n",
    "k_x = 2*np.pi/R #periodicity in x\n",
    "k_y = k_x #periodicity in y\n",
    "tau = 1/nu/(k_x**2+k_y**2) #decay timescale\n",
    "\n",
    "#################################\n",
    "# Plot parameters\n",
    "#################################\n",
    "fig, ax = plt.subplots(2,1,figsize=(10,15))\n",
    "\n",
    "#################################\n",
    "# Benchmark\n",
    "#################################\n",
    "filepath = '/home/epalermo/dev/test/taylor_green_vortex/taylor_green_2D/old_data_files/rho_evol/data_files'\n",
    "data_files = generate_file_names(filepath)\n",
    "\n",
    "all_run_info = []\n",
    "\n",
    "for run in data_files:\n",
    "    run_info, ds, sf, mp, N = gather_run_info(run,data_files)\n",
    "\n",
    "    #Extract position and velocity data from ds\n",
    "    td,xd,yd,vxd,vyd = extract_velocity_data(ds)\n",
    "\n",
    "    #Calculate KE from velocity data\n",
    "    td, E_tot, ref_E_tot = calc_TG_KE(td,xd,yd,vxd,vyd,mp)\n",
    "\n",
    "    #Plot KE (select only a specific sf to plot)\n",
    "    if sf == 0.2:\n",
    "        plot_profile(td*u_0/R, E_tot/E_tot[0], run_info, ax[0], \"data\",plot_key)\n",
    "\n",
    "    #Calculate viscosity error\n",
    "    nu_L1_norm = calc_viscosity_error(td, E_tot, ref_E_tot)/N\n",
    "    run_info.append(nu_L1_norm)\n",
    "\n",
    "    all_run_info.append(run_info)\n",
    "\n",
    "#Plot one analytical energy profile on top of all runs\n",
    "plot_profile(td*u_0/R, ref_E_tot/ref_E_tot[0], run_info, ax[0],\"analytic\",plot_key)\n",
    "\n",
    "#Viscosity error plot\n",
    "plot_normalized_error(all_run_info)\n",
    "\n",
    "#Reference line for viscosity error plot\n",
    "y_ref = [10e-5,10e-9]\n",
    "x_ref = [20,200]\n",
    "ax[1].loglog(x_ref,y_ref, \n",
    "             color=\"red\",\n",
    "             linestyle=\"solid\",\n",
    "             label=\"Slope = -4\")\n",
    "\n",
    "#################################\n",
    "# Plot format\n",
    "#################################\n",
    "KE_plot_params = [r\"$\\frac{tu_0}{L}$\",r\"$\\frac{E_k}{E_{k0}}$\",\n",
    "                  [0,0.3],[1e-3,1],\n",
    "                  \"lower left\"]\n",
    "nu_plot_params = [r\"$\\frac{L}{\\Delta x}$\",r\"$\\frac{L_1}{N}$\",\n",
    "                  [10**0.9,10**2.5],None,\n",
    "                  \"lower left\"]\n",
    "format_plot(fig, ax,[KE_plot_params,nu_plot_params])\n",
    "\n",
    "#log y scale for kinetic energy plots\n",
    "ax[0].set_yscale(\"log\")\n"
   ]
  },
  {
   "cell_type": "markdown",
   "id": "6648b4ab",
   "metadata": {
    "jupyter": {
     "source_hidden": true
    },
    "tags": []
   },
   "source": [
    "### Test Case 2\n",
    "\n",
    "Compares the performance of all kernel types when between two versions of the verlet integrator. In the file naming convention a_b_c_comments.nc, a=0 for the standard verlet integrator and a=1 for the updated verlet integrator from the Adami 2012 paper. Shifting is turned off for all runs."
   ]
  },
  {
   "cell_type": "code",
   "execution_count": null,
   "id": "b9839ee7",
   "metadata": {
    "jupyter": {
     "source_hidden": true
    },
    "tags": []
   },
   "outputs": [],
   "source": [
    "#################################\n",
    "# Test-specific keys\n",
    "#################################\n",
    "var_0_key = {\"0\":\"Standard Verlet\",\"1\":\"Updated Verlet\"} #Viscosity calc method\n",
    "\n",
    "#################################\n",
    "# Simulation parameters\n",
    "#################################\n",
    "d = 2 #dimensions\n",
    "h3 = 3.5 #smoothing length coefficient\n",
    "R = 10 #system size\n",
    "\n",
    "rho0 = 1 #density\n",
    "eta = 0.1 # dynamic viscosity\n",
    "nu = eta/rho0 #kinematic viscosity\n",
    "\n",
    "u_0 = 0.1 #velocity scale\n",
    "k_x = 2*np.pi/R #periodicity in x\n",
    "k_y = k_x #periodicity in y\n",
    "tau = 1/nu/(k_x**2+k_y**2) #decay timescale\n",
    "\n",
    "#################################\n",
    "# Plot parameters\n",
    "#################################\n",
    "\n",
    "fig = plt.figure(figsize=(10,10))\n",
    "ax = fig.add_axes([0,0,1,1])\n",
    "\n",
    "#################################\n",
    "# Benchmark\n",
    "#################################\n",
    "filepath = '/home/epalermo/dev/test/taylor_green_vortex/taylor_green_2D/updated_verlet_reduced_eta/ncdf/'\n",
    "\n",
    "all_run_info = []\n",
    "data_files = generate_file_names(filepath)\n",
    "for run in data_files:\n",
    "    run_info, ds, sf, mp, N = gather_run_info(run,data_files)\n",
    "    td,xd,yd,vxd,vyd = extract_velocity_data(ds)\n",
    "    rho_max_ref = calc_rho_max_ref(td,xd,yd,vxd,vyd)\n",
    "    if sf == 0.1:\n",
    "        rho_max = np.max(ds[\"c_den\"],axis=1)\n",
    "        td = ds[\"time\"][:]\n",
    "        plot_profile(td*u_0/R, rho_max, run_info, ax, \"data\",plot_key)\n",
    "\n",
    "#plot_profile(td*u_0/R, rho_max_ref, run_info, ax,\"analytic\",plot_key)\n",
    "\n",
    "\n",
    "#################################\n",
    "# Plot format\n",
    "#################################\n",
    "rho_plot_params = [r\"$\\frac{tu_0}{L}$\",r\"$\\rho$\",\n",
    "                  [None,None],[None,None],\n",
    "                  \"upper right\"]\n",
    "\n",
    "format_plot(fig, ax,[rho_plot_params])\n"
   ]
  },
  {
   "cell_type": "markdown",
   "id": "5d1a37a3",
   "metadata": {
    "jupyter": {
     "source_hidden": true
    },
    "tags": []
   },
   "source": [
    "### Test Case 3:\n",
    "\n",
    "Iteration of test case 2, except shifting is turned off for all runs. In the file naming convention a_b_c_comments.nc, a=0 for the standard verlet integrator and a=1 for the updated verlet integrator from the Adami 2012 paper."
   ]
  },
  {
   "cell_type": "code",
   "execution_count": null,
   "id": "01942197",
   "metadata": {
    "jupyter": {
     "source_hidden": true
    },
    "tags": []
   },
   "outputs": [],
   "source": [
    "#################################\n",
    "# Test-specific keys\n",
    "#################################\n",
    "\n",
    "#Same as before\n",
    "\n",
    "#################################\n",
    "# Simulation parameters\n",
    "#################################\n",
    "\n",
    "#Same as before\n",
    "\n",
    "#################################\n",
    "# Plot parameters\n",
    "#################################\n",
    "\n",
    "fig = plt.figure(figsize=(7.5,5))\n",
    "ax = fig.add_axes([0,0,1,1])\n",
    "\n",
    "\n",
    "#################################\n",
    "# Benchmark\n",
    "#################################\n",
    "filepath = '/home/epalermo/dev/test/taylor_green_vortex/taylor_green_2D/updated_verlet_reduced_eta_noshift/ncdf/'\n",
    "\n",
    "all_run_info = []\n",
    "data_files = generate_file_names(filepath)\n",
    "for run in data_files:\n",
    "    run_info, ds, sf, mp, N = gather_run_info(run,data_files)\n",
    "    if sf == 0.1:\n",
    "        rho_max = np.max(ds[\"c_den\"],axis=1)\n",
    "        td = ds[\"time\"][:]\n",
    "        plot_profile(td*u_0/R, rho_max, run_info, ax, \"data\",plot_key)\n",
    "\n",
    "#################################\n",
    "# Plot format\n",
    "#################################\n",
    "rho_plot_params = [r\"$\\frac{tu_0}{L}$\",r\"$\\rho$\",\n",
    "                  [None,None],[None,None],\n",
    "                  \"upper left\"]\n",
    "\n",
    "format_plot(fig, ax,[rho_plot_params])"
   ]
  },
  {
   "cell_type": "markdown",
   "id": "0d5318f4",
   "metadata": {
    "jupyter": {
     "source_hidden": true
    },
    "tags": []
   },
   "source": [
    "### Test Case 4\n",
    "Iteration of test case 1, with shifting turned on and density diffusion parameter Dr reduced from 0.05 to 0.005. In the file naming convention a_b_c_comments.nc, a=0 for the standard verlet integrator and a=1 for the updated verlet integrator from the Adami 2012 paper. Note: this simulation doesn't run stably if shifting is turned off"
   ]
  },
  {
   "cell_type": "code",
   "execution_count": null,
   "id": "4e0384ac",
   "metadata": {
    "jupyter": {
     "source_hidden": true
    },
    "tags": []
   },
   "outputs": [],
   "source": [
    "#################################\n",
    "# Test-specific keys\n",
    "#################################\n",
    "\n",
    "#Same as before\n",
    "\n",
    "#################################\n",
    "# Simulation parameters\n",
    "#################################\n",
    "\n",
    "#Same as before\n",
    "\n",
    "#################################\n",
    "# Plot parameters\n",
    "#################################\n",
    "\n",
    "fig = plt.figure(figsize=(7.5,5))\n",
    "ax = fig.add_axes([0,0,1,1])\n",
    "\n",
    "\n",
    "#################################\n",
    "# Benchmark\n",
    "#################################\n",
    "filepath = '/home/epalermo/dev/test/taylor_green_vortex/taylor_green_2D/updated_verlet_reducedeta_noshift_reducedDr/ncdf/'\n",
    "\n",
    "all_run_info = []\n",
    "data_files = generate_file_names(filepath)\n",
    "for run in data_files:\n",
    "    run_info, ds, sf, mp, N = gather_run_info(run,data_files)\n",
    "    if sf == 0.1:\n",
    "        rho_max = np.max(ds[\"c_den\"],axis=1)\n",
    "        td = ds[\"time\"][:]\n",
    "        plot_profile(td*u_0/R, rho_max, run_info, ax, \"data\",plot_key)\n",
    "\n",
    "#################################\n",
    "# Plot format\n",
    "#################################\n",
    "rho_plot_params = [r\"$\\frac{tu_0}{L}$\",r\"$\\rho$\",\n",
    "                  [None,None],[None,None],\n",
    "                  \"upper right\"]\n",
    "\n",
    "format_plot(fig, ax,[rho_plot_params])"
   ]
  },
  {
   "cell_type": "markdown",
   "id": "54153eeb",
   "metadata": {
    "tags": []
   },
   "source": [
    "## Poiseuille Flow <a class=\"anchor\" id=\"PF_funcs\"></a>"
   ]
  },
  {
   "cell_type": "code",
   "execution_count": null,
   "id": "0d7e9349",
   "metadata": {
    "jupyter": {
     "source_hidden": true
    },
    "tags": []
   },
   "outputs": [],
   "source": [
    "#Analytical solution for Newtonian Poiseuille Flow in 2D rectangular channel \n",
    "def poiseuille_analyt(r,t,model):\n",
    "    P_grad = -f_ext\n",
    "    if model == \"Newtonian\":\n",
    "        u_z = 0.5/eta*(-P_grad)*(R**2-r**2)\n",
    "    elif model == \"Power Law\":\n",
    "        u_z = npow/((2*k)**(1/npow)*(npow+1))*(-P_grad)**(1/npow)*(R**(1/npow+1)-(np.abs(r))**(1/npow+1))        \n",
    "    return u_z\n",
    "\n",
    "def poiseuille_data(run, ds):\n",
    "    #list of all atoms\n",
    "    atom_ids = ds[\"id\"][frame]\n",
    "    #list of flow atoms\n",
    "    flow_atom_ids = []\n",
    "\n",
    "    #iterate over each atom\n",
    "    for count, atom in enumerate(atom_ids):\n",
    "        if ds[\"type\"][int(frame),int(atom)-1]==1:\n",
    "            flow_atom_ids.append(atom)\n",
    "\n",
    "\n",
    "    t_frame = ds[\"time\"][frame]\n",
    "\n",
    "    u_z = np.zeros(shape=len(flow_atom_ids))\n",
    "    r = np.zeros(shape=len(flow_atom_ids))\n",
    "    for count, atom in enumerate(flow_atom_ids):\n",
    "        r[count] = ds[\"coordinates\"][frame,atom-1,1]\n",
    "        u_z[count] = ds[\"velocities\"][frame,atom-1,0]\n",
    "    \n",
    "    return t_frame, r, u_z\n",
    "\n",
    "    \n",
    "def poiseuille_benchmark(data_files, ax):\n",
    "    ax = ax\n",
    "    for run in data_files:\n",
    "        #Gather run info from the file name\n",
    "        run_info, ds, sf, mp, N = gather_run_info(run,data_files)\n",
    "        model = run_info[0]\n",
    "        \n",
    "        #Data velocity profile\n",
    "        t_frame, r, u_z = poiseuille_data(run, ds)\n",
    "        r_norm = r/R\n",
    "        u_z_norm = u_z/np.max(u_z)\n",
    "        #Reformat the data for plotting\n",
    "        u_prof = np.hstack((r_norm[:,None],u_z_norm[:,None]))\n",
    "        u_prof = u_prof[u_prof[:,0].argsort()]\n",
    "        #Only need R>0 because the data is symmetrical\n",
    "        u_prof = u_prof[np.logical_not(u_prof[:,0] < 0)]\n",
    "        \n",
    "        #Plot data for each run\n",
    "        if model == \"0\":\n",
    "            plot_profile(u_prof[:,0],u_prof[:,1],run_info, ax[0],\"data\",plot_key)\n",
    "        elif model == \"1\":\n",
    "            plot_profile(u_prof[:,0],u_prof[:,1],run_info, ax[1], \"data\",plot_key)\n",
    "\n",
    "            \n",
    "    \n",
    "    #Plot analytic solution over all runs\n",
    "    models = [\"Newtonian\", \"Power Law\"]\n",
    "    for count, model in enumerate(models):\n",
    "        #Calculate analytic velocity profile\n",
    "        r_ref = np.linspace(0,R,25)\n",
    "        u_z_ref = poiseuille_analyt(r_ref, t_frame, model)\n",
    "\n",
    "        r_ref_norm = r_ref/R\n",
    "        u_z_ref_norm = u_z_ref/np.max(u_z_ref)\n",
    "        \n",
    "        u_prof_analyt = np.hstack((r_ref_norm[:,None],u_z_ref_norm[:,None]))\n",
    "        u_prof_analyt = u_prof_analyt[u_prof_analyt[:,0].argsort()] \n",
    "        \n",
    "        #Plot\n",
    "        plot_profile(u_prof_analyt[:,0],u_prof_analyt[:,1],run_info, ax[count], \"analytic\",plot_key)\n",
    "        \n"
   ]
  },
  {
   "cell_type": "markdown",
   "id": "283be2af",
   "metadata": {
    "jupyter": {
     "source_hidden": true
    },
    "tags": []
   },
   "source": [
    "Test case 1: baseline test with same parameters as the TG vortex runs"
   ]
  },
  {
   "cell_type": "code",
   "execution_count": null,
   "id": "2fda5af1",
   "metadata": {
    "jupyter": {
     "source_hidden": true
    },
    "tags": []
   },
   "outputs": [],
   "source": [
    "#################################\n",
    "# Test-specific keys\n",
    "#################################\n",
    "var_0_key = {\"0\":\"Newtonian\",\"1\":\"Power Law\"} #Viscosity calc method\n",
    "\n",
    "#################################\n",
    "# Simulation parameters\n",
    "#################################\n",
    "#System dimensions\n",
    "outer_R = 10\n",
    "R = 6.99\n",
    "d = 3 #3d\n",
    "\n",
    "#Smoothing length coefficient\n",
    "h3 = 3.5\n",
    "\n",
    "#Fluid properties\n",
    "eta = 1000\n",
    "rho0 = 1\n",
    "nu = eta/rho0\n",
    "gd0 = 1e-2\n",
    "npow=0.5\n",
    "k = eta*gd0**(1-npow)\n",
    "\n",
    "#Scaling parameters\n",
    "sf = 0.2\n",
    "nb =1\n",
    "n = nb/sf**2\n",
    "\n",
    "L_z = h3*(d-2)*sf #Account for L_z if d=3\n",
    "n = 1/sf**d #Number density - number of particles per volume\n",
    "mp = rho0/n #Mass of particles (density is constant)\n",
    "\n",
    "#External Force\n",
    "f_ext = 1e-3\n",
    "frame = -1\n",
    "\n",
    "#################################\n",
    "# Plot parameters\n",
    "#################################\n",
    "fig, ax = plt.subplots(2,1,figsize=(10,15))\n",
    "\n",
    "\n",
    "#################################\n",
    "# Benchmark\n",
    "#################################\n",
    "filepath = '/home/epalermo/dev/test/poiseuille_flow/wall_debug_03_02/ncdf/'\n",
    "data_files = generate_file_names(filepath)\n",
    "\n",
    "for run in data_files:\n",
    "    #Gather run info from the file name\n",
    "    run_info, ds, sf, mp, N = gather_run_info(run,data_files)\n",
    "    model = run_info[0]\n",
    "\n",
    "    #Data velocity profile\n",
    "    t_frame, r, u_z = poiseuille_data(run, ds)\n",
    "    r_norm = r/R\n",
    "    u_z_norm = u_z/np.max(u_z)\n",
    "    #Reformat the data for plotting\n",
    "    u_prof = np.hstack((r_norm[:,None],u_z_norm[:,None]))\n",
    "    u_prof = u_prof[u_prof[:,0].argsort()]\n",
    "    #Only need R>0 because the data is symmetrical\n",
    "    u_prof = u_prof[np.logical_not(u_prof[:,0] < 0)]\n",
    "\n",
    "    #Plot data for each run\n",
    "    if model == \"0\":\n",
    "        plot_profile(u_prof[:,0],u_prof[:,1],run_info, ax[0],\"data\",plot_key)\n",
    "    elif model == \"1\":\n",
    "        plot_profile(u_prof[:,0],u_prof[:,1],run_info, ax[1], \"data\",plot_key)\n",
    "\n",
    "\n",
    "\n",
    "#Plot analytic solution over all runs\n",
    "models = [\"Newtonian\", \"Power Law\"]\n",
    "for count, model in enumerate(models):\n",
    "    #Calculate analytic velocity profile\n",
    "    r_ref = np.linspace(0,R,25)\n",
    "    u_z_ref = poiseuille_analyt(r_ref, t_frame, model)\n",
    "\n",
    "    r_ref_norm = r_ref/R\n",
    "    u_z_ref_norm = u_z_ref/np.max(u_z_ref)\n",
    "\n",
    "    u_prof_analyt = np.hstack((r_ref_norm[:,None],u_z_ref_norm[:,None]))\n",
    "    u_prof_analyt = u_prof_analyt[u_prof_analyt[:,0].argsort()] \n",
    "\n",
    "    #Plot\n",
    "    plot_profile(u_prof_analyt[:,0],u_prof_analyt[:,1],run_info, ax[count], \"analytic\",plot_key)\n",
    "\n",
    "#################################\n",
    "# Plot format\n",
    "#################################\n",
    "###Plot Format###\n",
    "Newtonian_plot_params = [r\"$\\frac{r}{R}$\",r\"$\\frac{u}{u_{max}}$\",\n",
    "                  None,None,\n",
    "                  \"lower left\"]\n",
    "Power_plot_params = Newtonian_plot_params\n",
    "format_plot(fig, ax,[Newtonian_plot_params,Power_plot_params])"
   ]
  },
  {
   "cell_type": "markdown",
   "id": "3d89f332",
   "metadata": {
    "jupyter": {
     "source_hidden": true
    },
    "tags": []
   },
   "source": [
    "Test case 2: CRK2 was unstable for both power law and Newtonian fluids, so viscosity and external force were reduced to create a more mild physical system"
   ]
  },
  {
   "cell_type": "code",
   "execution_count": null,
   "id": "3fe46cad",
   "metadata": {
    "jupyter": {
     "source_hidden": true
    },
    "tags": []
   },
   "outputs": [],
   "source": [
    "#Smoothing length coefficient\n",
    "h3 = 3.5\n",
    "\n",
    "#Fluid properties\n",
    "eta = 0.01\n",
    "rho0 = 1\n",
    "nu = eta/rho0\n",
    "gd0 = 1e-2\n",
    "npow=0.5\n",
    "k = eta*gd0**(1-npow)\n",
    "\n",
    "#External Force\n",
    "f_ext = 1e-5\n",
    "frame = -1\n",
    "\n",
    "#################################\n",
    "# Plot parameters\n",
    "#################################\n",
    "fig, ax = plt.subplots(2,1,figsize=(10,15))\n",
    "\n",
    "#################################\n",
    "# Benchmark\n",
    "#################################\n",
    "filepath = '/home/epalermo/dev/test/poiseuille_flow/wall_debug_red_eta_fext/ncdf/'\n",
    "data_files = generate_file_names(filepath)\n",
    "\n",
    "for run in data_files:\n",
    "    #Gather run info from the file name\n",
    "    run_info, ds, sf, mp, N = gather_run_info(run,data_files)\n",
    "    model = run_info[0]\n",
    "\n",
    "    #Data velocity profile\n",
    "    t_frame, r, u_z = poiseuille_data(run, ds)\n",
    "    r_norm = r/R\n",
    "    u_z_norm = u_z/np.max(u_z)\n",
    "    #Reformat the data for plotting\n",
    "    u_prof = np.hstack((r_norm[:,None],u_z_norm[:,None]))\n",
    "    u_prof = u_prof[u_prof[:,0].argsort()]\n",
    "    #Only need R>0 because the data is symmetrical\n",
    "    u_prof = u_prof[np.logical_not(u_prof[:,0] < 0)]\n",
    "\n",
    "    #Plot data for each run\n",
    "    if model == \"0\":\n",
    "        plot_profile(u_prof[:,0],u_prof[:,1],run_info, ax[0],\"data\",plot_key)\n",
    "    elif model == \"1\":\n",
    "        plot_profile(u_prof[:,0],u_prof[:,1],run_info, ax[1], \"data\",plot_key)\n",
    "\n",
    "\n",
    "\n",
    "#Plot analytic solution over all runs\n",
    "models = [\"Newtonian\", \"Power Law\"]\n",
    "for count, model in enumerate(models):\n",
    "    #Calculate analytic velocity profile\n",
    "    r_ref = np.linspace(0,R,25)\n",
    "    u_z_ref = poiseuille_analyt(r_ref, t_frame, model)\n",
    "\n",
    "    r_ref_norm = r_ref/R\n",
    "    u_z_ref_norm = u_z_ref/np.max(u_z_ref)\n",
    "\n",
    "    u_prof_analyt = np.hstack((r_ref_norm[:,None],u_z_ref_norm[:,None]))\n",
    "    u_prof_analyt = u_prof_analyt[u_prof_analyt[:,0].argsort()] \n",
    "\n",
    "    #Plot\n",
    "    plot_profile(u_prof_analyt[:,0],u_prof_analyt[:,1],run_info, ax[count], \"analytic\",plot_key)\n",
    "\n",
    "#################################\n",
    "# Plot format\n",
    "#################################\n",
    "###Plot Format###\n",
    "Newtonian_plot_params = [r\"$\\frac{r}{R}$\",r\"$\\frac{u}{u_{max}}$\",\n",
    "                  None,None,\n",
    "                  \"lower left\"]\n",
    "Power_plot_params = Newtonian_plot_params\n",
    "format_plot(fig, ax,[Newtonian_plot_params,Power_plot_params])"
   ]
  },
  {
   "cell_type": "markdown",
   "id": "456a0c2e",
   "metadata": {
    "jupyter": {
     "source_hidden": true
    },
    "tags": []
   },
   "source": [
    "Test case 3: test to see if ill-posed moment matrix is cause for CRK2 instability. Viscosity and fext same as in test case 1, but this time hd is increased from 3.5 to 4.5"
   ]
  },
  {
   "cell_type": "code",
   "execution_count": null,
   "id": "e62d8ab3",
   "metadata": {
    "jupyter": {
     "source_hidden": true
    },
    "tags": []
   },
   "outputs": [],
   "source": [
    "#Smoothing length coefficient\n",
    "h3 = 4.5\n",
    "\n",
    "#Fluid properties\n",
    "eta = 0.1\n",
    "rho0 = 1\n",
    "nu = eta/rho0\n",
    "gd0 = 1e-2\n",
    "npow=0.5\n",
    "k = eta*gd0**(1-npow)\n",
    "\n",
    "#External Force\n",
    "f_ext = 1e-3\n",
    "frame = -1\n",
    "\n",
    "#################################\n",
    "# Plot parameters\n",
    "#################################\n",
    "fig, ax = plt.subplots(2,1,figsize=(10,15))\n",
    "\n",
    "#################################\n",
    "# Benchmark\n",
    "#################################\n",
    "filepath = '/home/epalermo/dev/test/poiseuille_flow/wall_debug_inc_hd/ncdf/'\n",
    "data_files = generate_file_names(filepath)\n",
    "\n",
    "for run in data_files:\n",
    "    #Gather run info from the file name\n",
    "    run_info, ds, sf, mp, N = gather_run_info(run,data_files)\n",
    "    model = run_info[0]\n",
    "\n",
    "    #Data velocity profile\n",
    "    t_frame, r, u_z = poiseuille_data(run, ds)\n",
    "    r_norm = r/R\n",
    "    u_z_norm = u_z/np.max(u_z)\n",
    "    #Reformat the data for plotting\n",
    "    u_prof = np.hstack((r_norm[:,None],u_z_norm[:,None]))\n",
    "    u_prof = u_prof[u_prof[:,0].argsort()]\n",
    "    #Only need R>0 because the data is symmetrical\n",
    "    u_prof = u_prof[np.logical_not(u_prof[:,0] < 0)]\n",
    "\n",
    "    #Plot data for each run\n",
    "    if model == \"0\":\n",
    "        plot_profile(u_prof[:,0],u_prof[:,1],run_info, ax[0],\"data\",plot_key)\n",
    "    elif model == \"1\":\n",
    "        plot_profile(u_prof[:,0],u_prof[:,1],run_info, ax[1], \"data\",plot_key)\n",
    "\n",
    "\n",
    "\n",
    "#Plot analytic solution over all runs\n",
    "models = [\"Newtonian\", \"Power Law\"]\n",
    "for count, model in enumerate(models):\n",
    "    #Calculate analytic velocity profile\n",
    "    r_ref = np.linspace(0,R,25)\n",
    "    u_z_ref = poiseuille_analyt(r_ref, t_frame, model)\n",
    "\n",
    "    r_ref_norm = r_ref/R\n",
    "    u_z_ref_norm = u_z_ref/np.max(u_z_ref)\n",
    "\n",
    "    u_prof_analyt = np.hstack((r_ref_norm[:,None],u_z_ref_norm[:,None]))\n",
    "    u_prof_analyt = u_prof_analyt[u_prof_analyt[:,0].argsort()] \n",
    "\n",
    "    #Plot\n",
    "    plot_profile(u_prof_analyt[:,0],u_prof_analyt[:,1],run_info, ax[count], \"analytic\",plot_key)\n",
    "\n",
    "#################################\n",
    "# Plot format\n",
    "#################################\n",
    "###Plot Format###\n",
    "Newtonian_plot_params = [r\"$\\frac{r}{R}$\",r\"$\\frac{u}{u_{max}}$\",\n",
    "                  None,None,\n",
    "                  \"lower left\"]\n",
    "Power_plot_params = Newtonian_plot_params\n",
    "format_plot(fig, ax,[Newtonian_plot_params,Power_plot_params])"
   ]
  },
  {
   "cell_type": "code",
   "execution_count": null,
   "id": "3f3c7e2f",
   "metadata": {
    "jupyter": {
     "source_hidden": true
    },
    "scrolled": true,
    "tags": []
   },
   "outputs": [],
   "source": [
    "filepath = '/home/epalermo/dev/test/poiseuille_flow/0_1_5_3p5_p01_1e-5.nc'\n",
    "ds = Dataset(filepath)\n",
    "u = ds[\"velocities\"][:,:,0]\n",
    "max_u = np.max(u,axis=1)\n",
    "t = ds[\"time\"][:]\n",
    "plt.plot(t,max_u)\n",
    "plt.xlim(0,4000)\n",
    "plt.show()\n",
    "max(t)\n",
    "#Between t = 5000 and 7000, velocity only increases by 0.01"
   ]
  },
  {
   "cell_type": "code",
   "execution_count": null,
   "id": "4ea02da1",
   "metadata": {
    "jupyter": {
     "source_hidden": true
    },
    "tags": []
   },
   "outputs": [],
   "source": [
    "eta0 = 0.1\n",
    "n = 0.5\n",
    "gd0 = 1e-3\n",
    "k = eta0*np.abs(gd0)**(1-n)\n",
    "\n",
    "gd = np.linspace(gd0,0.2,1000)\n",
    "eta = k*np.abs(gd)**(n-1)\n",
    "\n",
    "plt.plot(gd,eta)"
   ]
  },
  {
   "cell_type": "markdown",
   "id": "3ecd95df",
   "metadata": {},
   "source": [
    "## Extended Droplet <a class=\"anchor\" id=\"ED_funcs\"></a>"
   ]
  },
  {
   "cell_type": "code",
   "execution_count": 8,
   "id": "854b9cab",
   "metadata": {
    "jupyter": {
     "source_hidden": true
    },
    "tags": []
   },
   "outputs": [],
   "source": [
    "#X is a vector of initial conditions\n",
    "#t is the independent variable (both a and sigma depend on t)\n",
    "\n",
    "def odes(X,t):\n",
    "    \n",
    "    #array of values of both dependent variables over time\n",
    "    a = X[0]\n",
    "    sigma = X[1]\n",
    "    \n",
    "    #Relationship between a and b\n",
    "    \n",
    "    #Define ODEs\n",
    "    da_dt = sigma*a\n",
    "    dsig_dt = sigma**2*((a**4-w**4)/(a**4+w**4))\n",
    "    \n",
    "    \n",
    "    \n",
    "    return [da_dt,dsig_dt]\n",
    "\n",
    "#Return the analytical values of major axis length and kinetic energy wrt t\n",
    "\n",
    "def analyt_soltn_values(t, init_conditions, mp):\n",
    "    #Use scipy odeint to solve odes and return time profiles of sigma and a\n",
    "    X = odeint(odes,init_conditions,t) #Array of sigma and a values over time\n",
    "    #Extract a and sigma time profiles\n",
    "    a = X[:,0] #\n",
    "    b = (2*R)**2/a\n",
    "    sigma = X[:,1]\n",
    "    #Calculate kinetic energy\n",
    "    E_k = 0.5*mp*sigma**2*(4/3*a*b)*(a**2+b**2)\n",
    "    \n",
    "    return a,E_k\n"
   ]
  },
  {
   "cell_type": "markdown",
   "id": "108b8f23",
   "metadata": {
    "jupyter": {
     "source_hidden": true
    },
    "tags": []
   },
   "source": [
    "### Test Case 1\n",
    "\n",
    "Compares the semi-major axis length and kinetic energy decays of extending droplets with and without the RHEO surface feature turned on."
   ]
  },
  {
   "cell_type": "code",
   "execution_count": 9,
   "id": "81d17186",
   "metadata": {
    "collapsed": true,
    "jupyter": {
     "outputs_hidden": true,
     "source_hidden": true
    },
    "tags": []
   },
   "outputs": [
    {
     "ename": "FileNotFoundError",
     "evalue": "[Errno 2] No such file or directory: '/home/epalermo/dev/test/droplet_extension/test_data_files/ncdf'",
     "output_type": "error",
     "traceback": [
      "\u001b[0;31m---------------------------------------------------------------------------\u001b[0m",
      "\u001b[0;31mFileNotFoundError\u001b[0m                         Traceback (most recent call last)",
      "\u001b[0;32m/tmp/ipykernel_251/159980571.py\u001b[0m in \u001b[0;36m<module>\u001b[0;34m\u001b[0m\n\u001b[1;32m     29\u001b[0m \u001b[0;31m#################################\u001b[0m\u001b[0;34m\u001b[0m\u001b[0;34m\u001b[0m\u001b[0m\n\u001b[1;32m     30\u001b[0m \u001b[0mfilepath\u001b[0m \u001b[0;34m=\u001b[0m \u001b[0;34m'/home/epalermo/dev/test/droplet_extension/test_data_files/ncdf'\u001b[0m\u001b[0;34m\u001b[0m\u001b[0;34m\u001b[0m\u001b[0m\n\u001b[0;32m---> 31\u001b[0;31m \u001b[0mdata_files\u001b[0m \u001b[0;34m=\u001b[0m \u001b[0;34m(\u001b[0m\u001b[0mgenerate_file_names\u001b[0m\u001b[0;34m(\u001b[0m\u001b[0mfilepath\u001b[0m\u001b[0;34m)\u001b[0m\u001b[0;34m)\u001b[0m\u001b[0;34m\u001b[0m\u001b[0;34m\u001b[0m\u001b[0m\n\u001b[0m\u001b[1;32m     32\u001b[0m \u001b[0;34m\u001b[0m\u001b[0m\n\u001b[1;32m     33\u001b[0m \u001b[0mall_run_info\u001b[0m \u001b[0;34m=\u001b[0m \u001b[0;34m[\u001b[0m\u001b[0;34m]\u001b[0m\u001b[0;34m\u001b[0m\u001b[0;34m\u001b[0m\u001b[0m\n",
      "\u001b[0;32m/tmp/ipykernel_251/2958407216.py\u001b[0m in \u001b[0;36mgenerate_file_names\u001b[0;34m(filepath)\u001b[0m\n\u001b[1;32m      4\u001b[0m     \u001b[0mdata_files\u001b[0m \u001b[0;34m=\u001b[0m \u001b[0;34m{\u001b[0m\u001b[0;34m}\u001b[0m\u001b[0;34m\u001b[0m\u001b[0;34m\u001b[0m\u001b[0m\n\u001b[1;32m      5\u001b[0m \u001b[0;34m\u001b[0m\u001b[0m\n\u001b[0;32m----> 6\u001b[0;31m     \u001b[0;32mfor\u001b[0m \u001b[0mfile\u001b[0m \u001b[0;32min\u001b[0m \u001b[0mos\u001b[0m\u001b[0;34m.\u001b[0m\u001b[0mlistdir\u001b[0m\u001b[0;34m(\u001b[0m\u001b[0mfilepath\u001b[0m\u001b[0;34m)\u001b[0m\u001b[0;34m:\u001b[0m\u001b[0;34m\u001b[0m\u001b[0;34m\u001b[0m\u001b[0m\n\u001b[0m\u001b[1;32m      7\u001b[0m \u001b[0;34m\u001b[0m\u001b[0m\n\u001b[1;32m      8\u001b[0m         \u001b[0;31m#Remove the .nc extension\u001b[0m\u001b[0;34m\u001b[0m\u001b[0;34m\u001b[0m\u001b[0m\n",
      "\u001b[0;31mFileNotFoundError\u001b[0m: [Errno 2] No such file or directory: '/home/epalermo/dev/test/droplet_extension/test_data_files/ncdf'"
     ]
    },
    {
     "data": {
      "image/png": "[encoded data removed]",
      "text/plain": [
       "<Figure size 720x1080 with 2 Axes>"
      ]
     },
     "metadata": {
      "needs_background": "light"
     },
     "output_type": "display_data"
    }
   ],
   "source": [
    "#################################\n",
    "# Test-specific keys\n",
    "#################################\n",
    "var_0_key = {\"0\":\"Surface Off\",\"1\":\"Surface On\"}\n",
    "\n",
    "#################################\n",
    "# Simulation parameters\n",
    "#################################\n",
    "d = 2 #System dimensions\n",
    "R = 1 #drop radius\n",
    "w = (2*R)**2 #product of the original semi-axis lengths\n",
    "\n",
    "h3 = 3.5 #Smoothing length coefficient\n",
    "\n",
    "eta = 0.0 #dynamic viscosity\n",
    "rho0 = 1 #initial density\n",
    "nu = eta/rho0 #kinetic viscosity\n",
    "\n",
    "sigma0 = 0.0714 #Decay timescale\n",
    "\n",
    "#################################\n",
    "# Plot parameters\n",
    "#################################\n",
    "fig, ax= plt.subplots(2,1,figsize=(10,15),sharex=True)\n",
    "\n",
    "\n",
    "#################################\n",
    "# Benchmark\n",
    "#################################\n",
    "filepath = '/home/epalermo/dev/test/droplet_extension/test_data_files/ncdf'\n",
    "data_files = (generate_file_names(filepath))\n",
    "\n",
    "all_run_info = []\n",
    "\n",
    "for run in data_files:\n",
    "    #Gather run info from the file name\n",
    "    run_info, ds, sf, mp, N = gather_run_info(run,data_files)\n",
    "\n",
    "    #Extract position and velocity data from ds\n",
    "    td,xd,yd,vxd,vyd = extract_velocity_data(ds)\n",
    "\n",
    "    #Major axis length and kinetic energy\n",
    "    init_conditions = [R*2, sigma0]\n",
    "    a_data = np.max(xd, axis=1) #major axis length\n",
    "    KE_data = calc_KE(td,xd,yd,vxd,vyd,mp)\n",
    "\n",
    "    #Only plot runs for a specific sf\n",
    "    #sf_plot = 0.1    \n",
    "    #if sf == sf_plot:\n",
    "    plot_profile(td*sigma0/R,a_data/a_data[0],run_info, ax[0], \"data\",plot_key)\n",
    "    plot_profile(td*sigma0/R, KE_data/KE_data[0],run_info, ax[1], \"data\",plot_key)\n",
    "\n",
    "\n",
    "#Calculate and plot analytical solution\n",
    "a_ref, KE_ref = analyt_soltn_values(td, init_conditions, mp)\n",
    "plot_profile(td*sigma0/R,a_ref/a_ref[0],run_info, ax[0], \"analytic\",plot_key)\n",
    "plot_profile(td*sigma0/R, KE_ref/KE_ref[0],run_info, ax[1], \"analytic\",plot_key)\n",
    "\n",
    "#################################\n",
    "# Plot format\n",
    "#################################\n",
    "axis_plot_params = [r\"$\\frac{t\\sigma_0}{R}$\",r\"$\\frac{a}{a_0}$\",\n",
    "                  None,None,\n",
    "                  \"lower right\"]\n",
    "KE_plot_params = [r\"$\\frac{t\\sigma_0}{R}$\",r\"$\\frac{E_k}{E_{k0}}$\",\n",
    "                  None,None,\n",
    "                  \"lower left\"]\n",
    "format_plot(fig, ax,[axis_plot_params,KE_plot_params])"
   ]
  },
  {
   "cell_type": "markdown",
   "id": "431a7efc",
   "metadata": {},
   "source": [
    "## Velocity Gradient Convergence <a class=\"anchor\" id=\"gradv_funcs\"></a>"
   ]
  },
  {
   "cell_type": "code",
   "execution_count": null,
   "id": "e41945f7",
   "metadata": {
    "jupyter": {
     "source_hidden": true
    },
    "tags": []
   },
   "outputs": [],
   "source": [
    "#Analytically obtained gradient\n",
    "def ref_gradv(x,y):\n",
    "    #gradient = u_0*k_x*np.cos(k_x*x)\n",
    "    gradient = 0\n",
    "    return gradient\n",
    "\n",
    "\n",
    "def data_gradv(ds):\n",
    "    atom_values = {}\n",
    "    frame = -1\n",
    "    atom_ids = (ds[\"id\"][frame])\n",
    "    for atom in atom_ids:\n",
    "        coords = (ds[\"coordinates\"][frame,atom-1,0:2]) #coords\n",
    "        x = coords[0]\n",
    "        y = coords[1]\n",
    "        \n",
    "        grad_v = (ds[\"f_rheo_grad_gradv\"][frame,atom-1,:])[0] #grad v\n",
    "        \n",
    "        atom_values[(x,y)] = grad_v\n",
    "\n",
    "    return atom_values\n",
    "\n",
    "\n",
    "#Benchmark by plotting kinetic energy decay and viscosity\n",
    "def gradv_benchmark(data_files, ax):\n",
    "    ax = ax\n",
    "    all_run_info = []\n",
    "\n",
    "    for run in data_files:\n",
    "        #Gather run info from the file name\n",
    "        run_info, ds, sf, mp, N = gather_run_info(run,data_files)\n",
    "        \n",
    "        #Calculate divergence from data and error wrt analytical gradient\n",
    "        atom_values = data_gradv(ds)\n",
    "        error = []\n",
    "        for item in atom_values.items():\n",
    "            ref_gradient = ref_gradv(item[0][0],item[0][1])\n",
    "            particle_error = np.abs(ref_gradient-item[1])\n",
    "            error.append(particle_error)\n",
    "        L_1_norm = np.sum(error)/len(atom_values)\n",
    "        run_info.append(L_1_norm)\n",
    "        all_run_info.append(run_info)\n",
    "    \n",
    "    #Convert run_info to dataframe for plotting\n",
    "    plot_normalized_error(all_run_info)\n",
    "    "
   ]
  },
  {
   "cell_type": "code",
   "execution_count": null,
   "id": "df9c5c24",
   "metadata": {
    "jupyter": {
     "source_hidden": true
    },
    "tags": []
   },
   "outputs": [],
   "source": [
    "#################################\n",
    "# Test-specific keys\n",
    "#################################\n",
    "\n",
    "#################################\n",
    "# Simulation parameters\n",
    "#################################\n",
    "\n",
    "#System dimensions\n",
    "d = 2\n",
    "\n",
    "#Smoothing length coefficient\n",
    "h3 = 3.5\n",
    "\n",
    "#System size\n",
    "L_x = 10 #Size of the system\n",
    "L_y = L_x\n",
    "\n",
    "#Fluid properties\n",
    "eta = 0.01\n",
    "rho0 = 1\n",
    "nu = eta/rho0\n",
    "\n",
    "#Oscillation properties\n",
    "u_0 = 0.1\n",
    "k_x = 2*np.pi/L_x\n",
    "k_y = 2*np.pi/L_y\n",
    "\n",
    "#Decay timescale\n",
    "tau = 1/nu/(k_x**2+k_y**2)\n",
    "\n",
    "\n",
    "#################################\n",
    "# Plot parameters\n",
    "#################################\n",
    "\n",
    "fig_gradv, ax_gradv = plt.subplots(1,1,figsize=(10,10))\n",
    "\n",
    "\n",
    "#################################\n",
    "# Benchmark\n",
    "#################################\n",
    "\n",
    "filepath = '/home/epalermo/dev/test/kernel_convergence/gradv_convergence/data_files_current'\n",
    "gradv_benchmark(generate_file_names(filepath),ax_gradv)\n",
    "\n",
    "#################################\n",
    "# Plot format\n",
    "#################################\n",
    "gradv_plot_params = [r\"$\\frac{L}{\\Delta x}$\",r\"$\\frac{L_1}{N}$\",\n",
    "                     None,None,\n",
    "                     \"lower left\"]\n",
    "format_plot(fig_gradv, ax_gradv,[gradv_plot_params])"
   ]
  },
  {
   "cell_type": "markdown",
   "id": "5f8336eb",
   "metadata": {
    "tags": []
   },
   "source": [
    "## Surface Normal Convergence<a class=\"anchor\" id=\"surf_funcs\"></a>"
   ]
  },
  {
   "cell_type": "code",
   "execution_count": null,
   "id": "1f964bcf",
   "metadata": {
    "tags": []
   },
   "outputs": [],
   "source": [
    "#Calculate the analytically determined surface normal as a function of x and y\n",
    "def calc_ref_normal(x,y,geometry):\n",
    "    if geometry == \"circle\":\n",
    "        n_x = x/np.sqrt(x**2+y**2)\n",
    "        n_y = y/np.sqrt(x**2+y**2)\n",
    "    if geometry == \"sine\":\n",
    "        n_x = -np.cos(x)/np.sqrt(np.cos(x)**2+1)\n",
    "        n_y = 1/np.sqrt(np.cos(x)**2+1)\n",
    "    \n",
    "    return np.array([n_x, n_y])\n",
    "\n",
    "\n",
    "#Extract data for the surface normal from LAMMPS simulation\n",
    "def calc_data_normal(ds, geometry):\n",
    "    atom_values = {}\n",
    "    frame = -1\n",
    "    atom_ids = (ds[\"id\"][frame])\n",
    "    for atom in atom_ids:\n",
    "        if geometry == \"circle\":\n",
    "            if ds[\"c_surf\"][frame][atom-1] == 2.: \n",
    "                coords = (ds[\"coordinates\"][frame,atom-1,0:2]) #coords\n",
    "                x = coords[0]\n",
    "                y = coords[1]\n",
    "\n",
    "                n_x, n_y = (ds[\"f_2\"][frame,atom-1,:])\n",
    "\n",
    "                atom_values[(x,y)] = np.array([n_x,n_y])\n",
    "\n",
    "    return atom_values\n",
    "\n",
    "\n",
    "def surf_benchmark(data_files, ax, geometry):\n",
    "    ax = ax\n",
    "    all_run_info = []\n",
    "\n",
    "    for run in data_files:\n",
    "        #Gather run info from the file name\n",
    "        run_info, ds, sf, mp, N = gather_run_info(run,data_files)\n",
    "        \n",
    "        #Return surface normal as a function of atom coordinates (for surface atoms only)\n",
    "        atom_values = calc_data_normal(ds, geometry)\n",
    "        #Calculate error wrt geometrically calculated normal\n",
    "        error = []\n",
    "        for item in atom_values.items():\n",
    "            ref_normal = calc_ref_normal(item[0][0],item[0][1], geometry)\n",
    "            err_vector = ref_normal-item[1]\n",
    "            err_vector_mag = np.sqrt(err_vector.dot(err_vector))\n",
    "            error.append(err_vector_mag)\n",
    "        L_1_norm = np.sum(error)/len(atom_values)\n",
    "        run_info.append(L_1_norm)\n",
    "        all_run_info.append(run_info)\n",
    "    \n",
    "    #Convert run_info to dataframe for plotting\n",
    "    plot_normalized_error(all_run_info)"
   ]
  },
  {
   "cell_type": "code",
   "execution_count": null,
   "id": "00baccd8",
   "metadata": {
    "tags": []
   },
   "outputs": [],
   "source": [
    "var_0_key = {\"0\":\"Shifting Off\",\"1\":\"Shifting On\"} #Viscosity calc method\n",
    "var_1_key = {\"5\":\"Quintic\",\"0\":\"CRK0\", \"1\":\"CRK1\", \"2\":\"CRK2\"}\n",
    "\n",
    "\n",
    "#---System Properties---#\n",
    "\n",
    "d = 2 #System dimensions\n",
    "r = 5 #drop radius\n",
    "h3 = 3.5 #Smoothing length coefficient\n",
    "\n",
    "eta = 0.01 #dynamic viscosity\n",
    "rho0 = 1 #initial density\n",
    "nu = eta/rho0 #kinetic viscosity\n",
    "\n",
    "fig_surf, ax_surf = plt.subplots(1,1,figsize=(10,10))\n",
    "\n",
    "filepath = '/home/epalermo/dev/test/kernel_convergence/normal_convergence/circle_surface/data_files/'\n",
    "surf_benchmark(generate_file_names(filepath),ax_surf,\"circle\")\n",
    "\n",
    "###Plot Format###\n",
    "surf_plot_params = [r\"$\\frac{L}{\\Delta x}$\",r\"$\\frac{L_1}{N}$\",\n",
    "                     None,None,\n",
    "                     \"lower left\"]\n",
    "format_plot(fig_surf, ax_surf,[surf_plot_params])\n"
   ]
  },
  {
   "cell_type": "markdown",
   "id": "63e7a089-a351-4653-a3eb-c7efca2ac166",
   "metadata": {},
   "source": [
    "## Dam Break "
   ]
  },
  {
   "cell_type": "code",
   "execution_count": 19,
   "id": "124ec259-69d2-450a-8266-66fa77f2d3f4",
   "metadata": {},
   "outputs": [
    {
     "data": {
      "text/plain": [
       "[<matplotlib.lines.Line2D at 0x7f2a47cf2550>]"
      ]
     },
     "execution_count": 19,
     "metadata": {},
     "output_type": "execute_result"
    },
    {
     "data": {
      "image/png": "[encoded data removed]",
      "text/plain": [
       "<Figure size 432x288 with 1 Axes>"
      ]
     },
     "metadata": {
      "needs_background": "light"
     },
     "output_type": "display_data"
    }
   ],
   "source": [
    "rho0=1\n",
    "\n",
    "pwd = os.getcwd()\n",
    "filepath = \"/home/epalermo/test/rheo_bench/old_dam_break/static/ncdf/0_10_dr0p1_static.nc\"\n",
    "ds = Dataset(filepath)\n",
    "fluid_ids = []\n",
    "frame = -1\n",
    "atom_ids = ds[\"id\"][frame]\n",
    "for count,atom in enumerate(atom_ids):\n",
    "    if ds[\"type\"][frame,count] == 1:\n",
    "        fluid_ids.append(atom)\n",
    "fluid_min = np.min(fluid_ids)\n",
    "fluid_max = np.max(fluid_ids) \n",
    "\n",
    "rho = ds[\"c_den\"][frame,fluid_min:fluid_max] #this only works because fluid atoms are consecutive, would NOT work if type changes during simulation\n",
    "p = 1**2*(rho-rho0) #cs = 1\n",
    "y = ds[\"coordinates\"][frame,fluid_min:fluid_max,1]\n",
    "plt.scatter(y,p,s=0.5)\n",
    "\n",
    "\n",
    "p_static = rho0 * 1e-5 * np.max(y)\n",
    "p_ref = np.linspace(-p_static,0,len(y))\n",
    "\n",
    "plt.plot(y,p_ref,color=\"red\")"
   ]
  },
  {
   "cell_type": "code",
   "execution_count": 41,
   "id": "fd3e4fe7-8957-44e9-9913-0f117812b202",
   "metadata": {},
   "outputs": [
    {
     "data": {
      "text/plain": [
       "numpy.int32"
      ]
     },
     "execution_count": 41,
     "metadata": {},
     "output_type": "execute_result"
    }
   ],
   "source": []
  },
  {
   "cell_type": "code",
   "execution_count": null,
   "id": "5106e06d-1a17-4e52-a956-4b78d2772268",
   "metadata": {},
   "outputs": [],
   "source": []
  }
 ],
 "metadata": {
  "kernelspec": {
   "display_name": "Python 3 (ipykernel)",
   "language": "python",
   "name": "python3"
  },
  "language_info": {
   "codemirror_mode": {
    "name": "ipython",
    "version": 3
   },
   "file_extension": ".py",
   "mimetype": "text/x-python",
   "name": "python",
   "nbconvert_exporter": "python",
   "pygments_lexer": "ipython3",
   "version": "3.9.7"
  }
 },
 "nbformat": 4,
 "nbformat_minor": 5
}
