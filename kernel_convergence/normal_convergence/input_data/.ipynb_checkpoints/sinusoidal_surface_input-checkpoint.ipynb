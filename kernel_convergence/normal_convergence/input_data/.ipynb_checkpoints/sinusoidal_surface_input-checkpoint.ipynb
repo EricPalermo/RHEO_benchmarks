{
 "cells": [
  {
   "cell_type": "code",
   "execution_count": 5,
   "id": "c236e735",
   "metadata": {},
   "outputs": [],
   "source": [
    "import numpy as np\n",
    "import matplotlib.pyplot as plt"
   ]
  },
  {
   "cell_type": "code",
   "execution_count": 30,
   "id": "0e4ba299",
   "metadata": {},
   "outputs": [],
   "source": [
    "# Number of atoms\n",
    "natoms = len(positions)\n",
    "sf = 0.1\n",
    "\n",
    "L = 10 #System\n",
    "\n",
    "#System boundaries\n",
    "y_max = np.max(L+np.sin(2*np.pi/L*np.linspace(0,L, int(L/sf))))\n",
    "y_min = 0\n",
    "x_min = 0\n",
    "x_max = L\n",
    "\n",
    "positions = []\n",
    "for x in np.linspace(0,L, int(L/sf)):\n",
    "    #Sinusoidal surface atom positions\n",
    "    y_surf = L+np.sin(2*np.pi*x/L)\n",
    "    positions.append([x, y_surf,0])\n",
    "    #Fill the space between the sinusoidal top surface and a flat bottom surface\n",
    "    for y in np.linspace (0,y_surf,int(y_surf/sf)):\n",
    "        positions.append([x, y,0])\n"
   ]
  },
  {
   "cell_type": "code",
   "execution_count": 31,
   "id": "6c764fec",
   "metadata": {},
   "outputs": [],
   "source": [
    "with open(\"surface.data\",\"w\") as fdata:\n",
    "    fdata.write(\"Sinusoidal surface atom positions\\n\\n\")\n",
    "    \n",
    "    #---Header---#\n",
    "    fdata.write(\" {} atoms\\n\".format(natoms)) #total atoms\n",
    "    fdata.write(\" {} atom types\\n\".format(1)) #types of atoms\n",
    "    \n",
    "    #Box dimensions\n",
    "    fdata.write(\" {} {} xlo xhi\\n\".format(x_min, x_max))\n",
    "    fdata.write(\" {} {} xlo xhi\\n\".format(y_min, y_max))\n",
    "    fdata.write(\" {} {} zlo zhi\\n\".format(0.0, 0.0))\n",
    "    fdata.write(\"\\n\")\n",
    "    \n",
    "    #---Atoms---#\n",
    "    fdata.write(\"Atoms\\n\\n\")\n",
    "    \n",
    "    for i,pos in enumerate(positions):\n",
    "        fdata.write(\" {} 1 {} {} {}\\n\".format(i+1, *pos))"
   ]
  },
  {
   "cell_type": "code",
   "execution_count": null,
   "id": "b4356aca",
   "metadata": {},
   "outputs": [],
   "source": []
  }
 ],
 "metadata": {
  "kernelspec": {
   "display_name": "Python 3 (ipykernel)",
   "language": "python",
   "name": "python3"
  },
  "language_info": {
   "codemirror_mode": {
    "name": "ipython",
    "version": 3
   },
   "file_extension": ".py",
   "mimetype": "text/x-python",
   "name": "python",
   "nbconvert_exporter": "python",
   "pygments_lexer": "ipython3",
   "version": "3.9.7"
  }
 },
 "nbformat": 4,
 "nbformat_minor": 5
}
