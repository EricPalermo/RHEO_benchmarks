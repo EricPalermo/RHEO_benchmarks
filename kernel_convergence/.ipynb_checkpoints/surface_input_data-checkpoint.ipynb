{
 "cells": [
  {
   "cell_type": "code",
   "execution_count": 1,
   "id": "7fd763f1",
   "metadata": {},
   "outputs": [],
   "source": [
    "import numpy as np"
   ]
  },
  {
   "cell_type": "code",
   "execution_count": 2,
   "id": "8ef2b0ed",
   "metadata": {},
   "outputs": [],
   "source": [
    "# Number of atoms\n",
    "natoms = 1000\n",
    "\n",
    "#Size of the system cell (cube with vertex at origin)\n",
    "system_size = 20.0 #Length of one cube side\n",
    "\n",
    "#Generate random atom positions\n",
    "positions = []\n",
    "for i in range(natoms): #For each atom\n",
    "    positions.append(np.random.rand(3)) #Add a random array of 3d coordinates"
   ]
  },
  {
   "cell_type": "code",
   "execution_count": 4,
   "id": "034295db",
   "metadata": {},
   "outputs": [],
   "source": [
    "with open(\"random.data\",\"w\") as fdata:\n",
    "    #First line is a comment line\n",
    "    fdata.write(\"Random atoms python data file tutorial\\n\\n\") #\\n just adds a blank line between the the comment line and the header\n",
    "    \n",
    "    #---Header---#\n",
    "    #Specify number of atoms and atom types\n",
    "    fdata.write(\" {} atoms\\n\".format(natoms))\n",
    "    fdata.write(\" {} atom types\\n\".format(1))\n",
    "\n",
    "    #Note: the {}.format is a python construct that substitutes\n",
    "    #the format() argument into the brackets\n",
    "    #the format itself is according to that required by LAMMPS\n",
    "    \n",
    "    #Specify box dimensions\n",
    "    fdata.write(\" {} {} xlo xhi\\n\".format(0.0, system_size))\n",
    "    fdata.write(\" {} {} xlo xhi\\n\".format(0.0, system_size))\n",
    "    fdata.write(\" {} {} zlo zhi\\n\".format(0.0, system_size))\n",
    "    fdata.write(\"\\n\")\n",
    "    \n",
    "    #Atoms section\n",
    "    fdata.write(\"Atoms\\n\\n\") #Requires a blank line between the section title and the section\n",
    "    \n",
    "    #Write each atom position\n",
    "    for i,pos in enumerate(positions):\n",
    "        #Format depends on the atom style (see LAMMPS docs)\n",
    "        #For this example, style = atomic and all are type 1\n",
    "        # atom-ID atom-type x y z\n",
    "        fdata.write(\" {} 1 {} {} {}\\n\".format(i+1,*pos))\n",
    "    \n"
   ]
  },
  {
   "cell_type": "code",
   "execution_count": null,
   "id": "b713fe5c",
   "metadata": {},
   "outputs": [],
   "source": []
  }
 ],
 "metadata": {
  "kernelspec": {
   "display_name": "Python 3 (ipykernel)",
   "language": "python",
   "name": "python3"
  },
  "language_info": {
   "codemirror_mode": {
    "name": "ipython",
    "version": 3
   },
   "file_extension": ".py",
   "mimetype": "text/x-python",
   "name": "python",
   "nbconvert_exporter": "python",
   "pygments_lexer": "ipython3",
   "version": "3.9.7"
  }
 },
 "nbformat": 4,
 "nbformat_minor": 5
}
